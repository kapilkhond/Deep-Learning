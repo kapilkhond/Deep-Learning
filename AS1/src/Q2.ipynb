{
 "cells": [
  {
   "cell_type": "code",
   "execution_count": 68,
   "metadata": {},
   "outputs": [],
   "source": [
    "from keras import models\n",
    "from keras import layers\n",
    "from keras import optimizers\n",
    "from keras.models import load_model\n",
    "from sklearn.model_selection import train_test_split\n",
    "import pandas as pd"
   ]
  },
  {
   "cell_type": "code",
   "execution_count": 45,
   "metadata": {},
   "outputs": [],
   "source": [
    "spam_data = pd.DataFrame()"
   ]
  },
  {
   "cell_type": "code",
   "execution_count": 46,
   "metadata": {},
   "outputs": [],
   "source": [
    "def load_spam_data():\n",
    "    spam_data = pd.read_csv(r\"D:\\Data Science\\deep learning\\assignment-1\\spambase.data\", header=None)\n",
    "    \n",
    "    #(spam_data-spam_data.mean(axis=0))/(spam_data)\n",
    "    return (spam_data)\n",
    "\n",
    "#print (load_spam_data())"
   ]
  },
  {
   "cell_type": "code",
   "execution_count": 47,
   "metadata": {},
   "outputs": [],
   "source": [
    "spam_data = load_spam_data()\n",
    "features = spam_data.iloc[:,:-1]\n",
    "label = spam_data.iloc[:,-1:]\n",
    "x_train,x_test,y_train,y_test = train_test_split(features,label,test_size = 0.2)\n",
    "#not_spam = spam_data[spam_data[57] == 0]\n",
    "#spam = spam_data[spam_data[57] == 1]"
   ]
  },
  {
   "cell_type": "code",
   "execution_count": 48,
   "metadata": {},
   "outputs": [
    {
     "data": {
      "text/plain": [
       "((3680, 57), (921, 57))"
      ]
     },
     "execution_count": 48,
     "metadata": {},
     "output_type": "execute_result"
    }
   ],
   "source": [
    "x_train.shape,x_test.shape"
   ]
  },
  {
   "cell_type": "code",
   "execution_count": 49,
   "metadata": {},
   "outputs": [
    {
     "data": {
      "text/plain": [
       "((3680, 1), (921, 1))"
      ]
     },
     "execution_count": 49,
     "metadata": {},
     "output_type": "execute_result"
    }
   ],
   "source": [
    "y_train.shape,y_test.shape"
   ]
  },
  {
   "cell_type": "code",
   "execution_count": 50,
   "metadata": {},
   "outputs": [],
   "source": [
    "train_mean = x_train.mean(axis=0)\n",
    "train_std = x_train.std(axis=0)\n",
    "x_train = (x_train - train_mean)/train_std\n",
    "x_test = (x_test - train_mean)/train_std\n",
    "#train_max = x_train.max(axis=0)\n",
    "#x_train = x_train/train_max\n",
    "#x_test = x_test/train_max"
   ]
  },
  {
   "cell_type": "code",
   "execution_count": 9,
   "metadata": {},
   "outputs": [
    {
     "data": {
      "text/plain": [
       "0    7.884130e-16\n",
       "1    1.966875e-16\n",
       "2    1.870484e-16\n",
       "3    2.795130e-16\n",
       "4   -5.996487e-17\n",
       "dtype: float64"
      ]
     },
     "execution_count": 9,
     "metadata": {},
     "output_type": "execute_result"
    }
   ],
   "source": [
    "train_mean.head()"
   ]
  },
  {
   "cell_type": "code",
   "execution_count": 10,
   "metadata": {},
   "outputs": [
    {
     "data": {
      "text/plain": [
       "((3680, 57), (921, 57))"
      ]
     },
     "execution_count": 10,
     "metadata": {},
     "output_type": "execute_result"
    }
   ],
   "source": [
    "x_train.shape,x_test.shape"
   ]
  },
  {
   "cell_type": "code",
   "execution_count": 11,
   "metadata": {},
   "outputs": [
    {
     "data": {
      "text/plain": [
       "((3680, 1), (921, 1))"
      ]
     },
     "execution_count": 11,
     "metadata": {},
     "output_type": "execute_result"
    }
   ],
   "source": [
    "y_train.shape,y_test.shape"
   ]
  },
  {
   "cell_type": "code",
   "execution_count": 51,
   "metadata": {},
   "outputs": [],
   "source": [
    "train_feature, val_feature, train_label, val_label = train_test_split(x_train,y_train,test_size = 0.2)"
   ]
  },
  {
   "cell_type": "code",
   "execution_count": null,
   "metadata": {},
   "outputs": [],
   "source": []
  },
  {
   "cell_type": "code",
   "execution_count": 13,
   "metadata": {},
   "outputs": [
    {
     "data": {
      "text/plain": [
       "(736, 1)"
      ]
     },
     "execution_count": 13,
     "metadata": {},
     "output_type": "execute_result"
    }
   ],
   "source": [
    "val_label.shape"
   ]
  },
  {
   "cell_type": "code",
   "execution_count": 61,
   "metadata": {},
   "outputs": [
    {
     "name": "stdout",
     "output_type": "stream",
     "text": [
      "Train on 2944 samples, validate on 736 samples\n",
      "Epoch 1/100\n",
      "2944/2944 [==============================] - 0s 47us/step - loss: 0.5552 - accuracy: 0.7599 - val_loss: 0.4504 - val_accuracy: 0.8370\n",
      "Epoch 2/100\n",
      "2944/2944 [==============================] - 0s 16us/step - loss: 0.4057 - accuracy: 0.8614 - val_loss: 0.3592 - val_accuracy: 0.8791\n",
      "Epoch 3/100\n",
      "2944/2944 [==============================] - 0s 18us/step - loss: 0.3296 - accuracy: 0.8933 - val_loss: 0.3052 - val_accuracy: 0.8981\n",
      "Epoch 4/100\n",
      "2944/2944 [==============================] - 0s 20us/step - loss: 0.2821 - accuracy: 0.9052 - val_loss: 0.2708 - val_accuracy: 0.9090\n",
      "Epoch 5/100\n",
      "2944/2944 [==============================] - 0s 24us/step - loss: 0.2515 - accuracy: 0.9137 - val_loss: 0.2489 - val_accuracy: 0.9171\n",
      "Epoch 6/100\n",
      "2944/2944 [==============================] - 0s 19us/step - loss: 0.2301 - accuracy: 0.9219 - val_loss: 0.2342 - val_accuracy: 0.9185\n",
      "Epoch 7/100\n",
      "2944/2944 [==============================] - 0s 17us/step - loss: 0.2152 - accuracy: 0.9266 - val_loss: 0.2243 - val_accuracy: 0.9185\n",
      "Epoch 8/100\n",
      "2944/2944 [==============================] - 0s 19us/step - loss: 0.2048 - accuracy: 0.9290 - val_loss: 0.2176 - val_accuracy: 0.9212\n",
      "Epoch 9/100\n",
      "2944/2944 [==============================] - 0s 18us/step - loss: 0.1962 - accuracy: 0.9321 - val_loss: 0.2123 - val_accuracy: 0.9239\n",
      "Epoch 10/100\n",
      "2944/2944 [==============================] - 0s 15us/step - loss: 0.1892 - accuracy: 0.9341 - val_loss: 0.2087 - val_accuracy: 0.9280\n",
      "Epoch 11/100\n",
      "2944/2944 [==============================] - 0s 15us/step - loss: 0.1841 - accuracy: 0.9334 - val_loss: 0.2057 - val_accuracy: 0.9266\n",
      "Epoch 12/100\n",
      "2944/2944 [==============================] - 0s 19us/step - loss: 0.1792 - accuracy: 0.9348 - val_loss: 0.2034 - val_accuracy: 0.9280\n",
      "Epoch 13/100\n",
      "2944/2944 [==============================] - 0s 15us/step - loss: 0.1748 - accuracy: 0.9372 - val_loss: 0.2016 - val_accuracy: 0.9321\n",
      "Epoch 14/100\n",
      "2944/2944 [==============================] - 0s 14us/step - loss: 0.1711 - accuracy: 0.9389 - val_loss: 0.2003 - val_accuracy: 0.9348\n",
      "Epoch 15/100\n",
      "2944/2944 [==============================] - 0s 14us/step - loss: 0.1677 - accuracy: 0.9385 - val_loss: 0.1990 - val_accuracy: 0.9321\n",
      "Epoch 16/100\n",
      "2944/2944 [==============================] - 0s 16us/step - loss: 0.1649 - accuracy: 0.9389 - val_loss: 0.1980 - val_accuracy: 0.9321\n",
      "Epoch 17/100\n",
      "2944/2944 [==============================] - 0s 14us/step - loss: 0.1623 - accuracy: 0.9406 - val_loss: 0.1974 - val_accuracy: 0.9334\n",
      "Epoch 18/100\n",
      "2944/2944 [==============================] - 0s 16us/step - loss: 0.1600 - accuracy: 0.9416 - val_loss: 0.1969 - val_accuracy: 0.9334\n",
      "Epoch 19/100\n",
      "2944/2944 [==============================] - 0s 16us/step - loss: 0.1575 - accuracy: 0.9416 - val_loss: 0.1963 - val_accuracy: 0.9348\n",
      "Epoch 20/100\n",
      "2944/2944 [==============================] - 0s 15us/step - loss: 0.1554 - accuracy: 0.9426 - val_loss: 0.1960 - val_accuracy: 0.9361\n",
      "Epoch 21/100\n",
      "2944/2944 [==============================] - 0s 20us/step - loss: 0.1537 - accuracy: 0.9423 - val_loss: 0.1960 - val_accuracy: 0.9375\n",
      "Epoch 22/100\n",
      "2944/2944 [==============================] - 0s 20us/step - loss: 0.1517 - accuracy: 0.9440 - val_loss: 0.1952 - val_accuracy: 0.9361\n",
      "Epoch 23/100\n",
      "2944/2944 [==============================] - 0s 18us/step - loss: 0.1496 - accuracy: 0.9440 - val_loss: 0.1955 - val_accuracy: 0.9375\n",
      "Epoch 24/100\n",
      "2944/2944 [==============================] - 0s 21us/step - loss: 0.1482 - accuracy: 0.9443 - val_loss: 0.1962 - val_accuracy: 0.9348\n",
      "Epoch 25/100\n",
      "2944/2944 [==============================] - 0s 18us/step - loss: 0.1469 - accuracy: 0.9453 - val_loss: 0.1957 - val_accuracy: 0.9361\n",
      "Epoch 26/100\n",
      "2944/2944 [==============================] - 0s 19us/step - loss: 0.1451 - accuracy: 0.9463 - val_loss: 0.1954 - val_accuracy: 0.9389\n",
      "Epoch 27/100\n",
      "2944/2944 [==============================] - 0s 18us/step - loss: 0.1434 - accuracy: 0.9470 - val_loss: 0.1957 - val_accuracy: 0.9375\n",
      "Epoch 28/100\n",
      "2944/2944 [==============================] - 0s 18us/step - loss: 0.1416 - accuracy: 0.9474 - val_loss: 0.1954 - val_accuracy: 0.9389\n",
      "Epoch 29/100\n",
      "2944/2944 [==============================] - 0s 18us/step - loss: 0.1406 - accuracy: 0.9480 - val_loss: 0.1953 - val_accuracy: 0.9375\n",
      "Epoch 30/100\n",
      "2944/2944 [==============================] - 0s 18us/step - loss: 0.1392 - accuracy: 0.9477 - val_loss: 0.1957 - val_accuracy: 0.9375\n",
      "Epoch 31/100\n",
      "2944/2944 [==============================] - 0s 16us/step - loss: 0.1377 - accuracy: 0.9501 - val_loss: 0.1953 - val_accuracy: 0.9361\n",
      "Epoch 32/100\n",
      "2944/2944 [==============================] - 0s 16us/step - loss: 0.1365 - accuracy: 0.9494 - val_loss: 0.1952 - val_accuracy: 0.9375\n",
      "Epoch 33/100\n",
      "2944/2944 [==============================] - 0s 16us/step - loss: 0.1351 - accuracy: 0.9511 - val_loss: 0.1953 - val_accuracy: 0.9361\n",
      "Epoch 34/100\n",
      "2944/2944 [==============================] - 0s 16us/step - loss: 0.1340 - accuracy: 0.9518 - val_loss: 0.1957 - val_accuracy: 0.9375\n",
      "Epoch 35/100\n",
      "2944/2944 [==============================] - 0s 17us/step - loss: 0.1325 - accuracy: 0.9501 - val_loss: 0.1955 - val_accuracy: 0.9375\n",
      "Epoch 36/100\n",
      "2944/2944 [==============================] - 0s 15us/step - loss: 0.1314 - accuracy: 0.9518 - val_loss: 0.1958 - val_accuracy: 0.9361\n",
      "Epoch 37/100\n",
      "2944/2944 [==============================] - 0s 17us/step - loss: 0.1300 - accuracy: 0.9528 - val_loss: 0.1971 - val_accuracy: 0.9361\n",
      "Epoch 38/100\n",
      "2944/2944 [==============================] - 0s 33us/step - loss: 0.1293 - accuracy: 0.9528 - val_loss: 0.1961 - val_accuracy: 0.9361\n",
      "Epoch 39/100\n",
      "2944/2944 [==============================] - 0s 20us/step - loss: 0.1281 - accuracy: 0.9521 - val_loss: 0.1961 - val_accuracy: 0.9375\n",
      "Epoch 40/100\n",
      "2944/2944 [==============================] - 0s 24us/step - loss: 0.1272 - accuracy: 0.9528 - val_loss: 0.1972 - val_accuracy: 0.9375\n",
      "Epoch 41/100\n",
      "2944/2944 [==============================] - 0s 17us/step - loss: 0.1262 - accuracy: 0.9535 - val_loss: 0.1966 - val_accuracy: 0.9375\n",
      "Epoch 42/100\n",
      "2944/2944 [==============================] - 0s 14us/step - loss: 0.1248 - accuracy: 0.9528 - val_loss: 0.1972 - val_accuracy: 0.9348\n",
      "Epoch 43/100\n",
      "2944/2944 [==============================] - 0s 14us/step - loss: 0.1243 - accuracy: 0.9545 - val_loss: 0.1964 - val_accuracy: 0.9361\n",
      "Epoch 44/100\n",
      "2944/2944 [==============================] - 0s 14us/step - loss: 0.1230 - accuracy: 0.9548 - val_loss: 0.1965 - val_accuracy: 0.9361\n",
      "Epoch 45/100\n",
      "2944/2944 [==============================] - ETA: 0s - loss: 0.1278 - accuracy: 0.95 - 0s 15us/step - loss: 0.1222 - accuracy: 0.9545 - val_loss: 0.1963 - val_accuracy: 0.9348\n",
      "Epoch 46/100\n",
      "2944/2944 [==============================] - 0s 14us/step - loss: 0.1211 - accuracy: 0.9545 - val_loss: 0.1967 - val_accuracy: 0.9375\n",
      "Epoch 47/100\n",
      "2944/2944 [==============================] - 0s 14us/step - loss: 0.1203 - accuracy: 0.9555 - val_loss: 0.1964 - val_accuracy: 0.9375\n",
      "Epoch 48/100\n",
      "2944/2944 [==============================] - 0s 14us/step - loss: 0.1196 - accuracy: 0.9552 - val_loss: 0.1966 - val_accuracy: 0.9334\n",
      "Epoch 49/100\n",
      "2944/2944 [==============================] - 0s 15us/step - loss: 0.1184 - accuracy: 0.9552 - val_loss: 0.1971 - val_accuracy: 0.9334\n",
      "Epoch 50/100\n",
      "2944/2944 [==============================] - 0s 14us/step - loss: 0.1173 - accuracy: 0.9562 - val_loss: 0.1976 - val_accuracy: 0.9334\n",
      "Epoch 51/100\n",
      "2944/2944 [==============================] - 0s 15us/step - loss: 0.1165 - accuracy: 0.9558 - val_loss: 0.1971 - val_accuracy: 0.9334\n",
      "Epoch 52/100\n",
      "2944/2944 [==============================] - 0s 14us/step - loss: 0.1156 - accuracy: 0.9555 - val_loss: 0.1972 - val_accuracy: 0.9348\n",
      "Epoch 53/100\n",
      "2944/2944 [==============================] - 0s 16us/step - loss: 0.1148 - accuracy: 0.9562 - val_loss: 0.1971 - val_accuracy: 0.9321\n",
      "Epoch 54/100\n",
      "2944/2944 [==============================] - 0s 20us/step - loss: 0.1138 - accuracy: 0.9558 - val_loss: 0.1978 - val_accuracy: 0.9334\n",
      "Epoch 55/100\n",
      "2944/2944 [==============================] - 0s 25us/step - loss: 0.1131 - accuracy: 0.9569 - val_loss: 0.1968 - val_accuracy: 0.9321\n",
      "Epoch 56/100\n"
     ]
    },
    {
     "name": "stdout",
     "output_type": "stream",
     "text": [
      "2944/2944 [==============================] - 0s 20us/step - loss: 0.1122 - accuracy: 0.9565 - val_loss: 0.1973 - val_accuracy: 0.9334\n",
      "Epoch 57/100\n",
      "2944/2944 [==============================] - 0s 19us/step - loss: 0.1116 - accuracy: 0.9565 - val_loss: 0.1982 - val_accuracy: 0.9334\n",
      "Epoch 58/100\n",
      "2944/2944 [==============================] - 0s 18us/step - loss: 0.1109 - accuracy: 0.9579 - val_loss: 0.1980 - val_accuracy: 0.9334\n",
      "Epoch 59/100\n",
      "2944/2944 [==============================] - 0s 16us/step - loss: 0.1099 - accuracy: 0.9586 - val_loss: 0.1976 - val_accuracy: 0.9348\n",
      "Epoch 60/100\n",
      "2944/2944 [==============================] - 0s 15us/step - loss: 0.1092 - accuracy: 0.9575 - val_loss: 0.1978 - val_accuracy: 0.9348\n",
      "Epoch 61/100\n",
      "2944/2944 [==============================] - 0s 14us/step - loss: 0.1087 - accuracy: 0.9575 - val_loss: 0.1980 - val_accuracy: 0.9321\n",
      "Epoch 62/100\n",
      "2944/2944 [==============================] - 0s 14us/step - loss: 0.1073 - accuracy: 0.9596 - val_loss: 0.1974 - val_accuracy: 0.9334\n",
      "Epoch 63/100\n",
      "2944/2944 [==============================] - 0s 13us/step - loss: 0.1068 - accuracy: 0.9586 - val_loss: 0.1978 - val_accuracy: 0.9361\n",
      "Epoch 64/100\n",
      "2944/2944 [==============================] - 0s 14us/step - loss: 0.1066 - accuracy: 0.9586 - val_loss: 0.1981 - val_accuracy: 0.9321\n",
      "Epoch 65/100\n",
      "2944/2944 [==============================] - 0s 14us/step - loss: 0.1057 - accuracy: 0.9596 - val_loss: 0.1983 - val_accuracy: 0.9348\n",
      "Epoch 66/100\n",
      "2944/2944 [==============================] - 0s 13us/step - loss: 0.1049 - accuracy: 0.9613 - val_loss: 0.1978 - val_accuracy: 0.9321\n",
      "Epoch 67/100\n",
      "2944/2944 [==============================] - 0s 13us/step - loss: 0.1040 - accuracy: 0.9609 - val_loss: 0.1991 - val_accuracy: 0.9321\n",
      "Epoch 68/100\n",
      "2944/2944 [==============================] - 0s 13us/step - loss: 0.1038 - accuracy: 0.9620 - val_loss: 0.1984 - val_accuracy: 0.9348\n",
      "Epoch 69/100\n",
      "2944/2944 [==============================] - 0s 16us/step - loss: 0.1026 - accuracy: 0.9626 - val_loss: 0.1982 - val_accuracy: 0.9334\n",
      "Epoch 70/100\n",
      "2944/2944 [==============================] - 0s 14us/step - loss: 0.1020 - accuracy: 0.9637 - val_loss: 0.1993 - val_accuracy: 0.9334\n",
      "Epoch 71/100\n",
      "2944/2944 [==============================] - 0s 14us/step - loss: 0.1013 - accuracy: 0.9637 - val_loss: 0.1986 - val_accuracy: 0.9348\n",
      "Epoch 72/100\n",
      "2944/2944 [==============================] - 0s 14us/step - loss: 0.1008 - accuracy: 0.9657 - val_loss: 0.1989 - val_accuracy: 0.9348\n",
      "Epoch 73/100\n",
      "2944/2944 [==============================] - 0s 16us/step - loss: 0.0998 - accuracy: 0.9650 - val_loss: 0.2003 - val_accuracy: 0.9334\n",
      "Epoch 74/100\n",
      "2944/2944 [==============================] - 0s 15us/step - loss: 0.0995 - accuracy: 0.9643 - val_loss: 0.1993 - val_accuracy: 0.9348\n",
      "Epoch 75/100\n",
      "2944/2944 [==============================] - 0s 15us/step - loss: 0.0987 - accuracy: 0.9650 - val_loss: 0.1994 - val_accuracy: 0.9348\n",
      "Epoch 76/100\n",
      "2944/2944 [==============================] - 0s 14us/step - loss: 0.0980 - accuracy: 0.9664 - val_loss: 0.1999 - val_accuracy: 0.9334\n",
      "Epoch 77/100\n",
      "2944/2944 [==============================] - 0s 14us/step - loss: 0.0975 - accuracy: 0.9647 - val_loss: 0.1997 - val_accuracy: 0.9334\n",
      "Epoch 78/100\n",
      "2944/2944 [==============================] - 0s 17us/step - loss: 0.0967 - accuracy: 0.9660 - val_loss: 0.2000 - val_accuracy: 0.9334\n",
      "Epoch 79/100\n",
      "2944/2944 [==============================] - 0s 15us/step - loss: 0.0965 - accuracy: 0.9650 - val_loss: 0.2006 - val_accuracy: 0.9348\n",
      "Epoch 80/100\n",
      "2944/2944 [==============================] - 0s 15us/step - loss: 0.0955 - accuracy: 0.9684 - val_loss: 0.1999 - val_accuracy: 0.9334\n",
      "Epoch 81/100\n",
      "2944/2944 [==============================] - 0s 15us/step - loss: 0.0945 - accuracy: 0.9664 - val_loss: 0.2006 - val_accuracy: 0.9334\n",
      "Epoch 82/100\n",
      "2944/2944 [==============================] - 0s 15us/step - loss: 0.0946 - accuracy: 0.9667 - val_loss: 0.2009 - val_accuracy: 0.9348\n",
      "Epoch 83/100\n",
      "2944/2944 [==============================] - 0s 15us/step - loss: 0.0937 - accuracy: 0.9681 - val_loss: 0.2012 - val_accuracy: 0.9348\n",
      "Epoch 84/100\n",
      "2944/2944 [==============================] - 0s 15us/step - loss: 0.0930 - accuracy: 0.9691 - val_loss: 0.2013 - val_accuracy: 0.9348\n",
      "Epoch 85/100\n",
      "2944/2944 [==============================] - 0s 16us/step - loss: 0.0927 - accuracy: 0.9671 - val_loss: 0.2006 - val_accuracy: 0.9334\n",
      "Epoch 86/100\n",
      "2944/2944 [==============================] - 0s 21us/step - loss: 0.0919 - accuracy: 0.9677 - val_loss: 0.2010 - val_accuracy: 0.9361\n",
      "Epoch 87/100\n",
      "2944/2944 [==============================] - 0s 23us/step - loss: 0.0912 - accuracy: 0.9688 - val_loss: 0.2008 - val_accuracy: 0.9321\n",
      "Epoch 88/100\n",
      "2944/2944 [==============================] - 0s 19us/step - loss: 0.0908 - accuracy: 0.9704 - val_loss: 0.2012 - val_accuracy: 0.9348\n",
      "Epoch 89/100\n",
      "2944/2944 [==============================] - 0s 18us/step - loss: 0.0900 - accuracy: 0.9698 - val_loss: 0.2018 - val_accuracy: 0.9361\n",
      "Epoch 90/100\n",
      "2944/2944 [==============================] - 0s 18us/step - loss: 0.0894 - accuracy: 0.9691 - val_loss: 0.2027 - val_accuracy: 0.9348\n",
      "Epoch 91/100\n",
      "2944/2944 [==============================] - 0s 18us/step - loss: 0.0889 - accuracy: 0.9698 - val_loss: 0.2042 - val_accuracy: 0.9348\n",
      "Epoch 92/100\n",
      "2944/2944 [==============================] - 0s 15us/step - loss: 0.0884 - accuracy: 0.9701 - val_loss: 0.2018 - val_accuracy: 0.9321\n",
      "Epoch 93/100\n",
      "2944/2944 [==============================] - 0s 15us/step - loss: 0.0882 - accuracy: 0.9694 - val_loss: 0.2024 - val_accuracy: 0.9375\n",
      "Epoch 94/100\n",
      "2944/2944 [==============================] - 0s 16us/step - loss: 0.0875 - accuracy: 0.9698 - val_loss: 0.2018 - val_accuracy: 0.9321\n",
      "Epoch 95/100\n",
      "2944/2944 [==============================] - 0s 16us/step - loss: 0.0868 - accuracy: 0.9704 - val_loss: 0.2020 - val_accuracy: 0.9334\n",
      "Epoch 96/100\n",
      "2944/2944 [==============================] - 0s 15us/step - loss: 0.0862 - accuracy: 0.9698 - val_loss: 0.2034 - val_accuracy: 0.9348\n",
      "Epoch 97/100\n",
      "2944/2944 [==============================] - 0s 15us/step - loss: 0.0855 - accuracy: 0.9715 - val_loss: 0.2025 - val_accuracy: 0.9321\n",
      "Epoch 98/100\n",
      "2944/2944 [==============================] - 0s 13us/step - loss: 0.0851 - accuracy: 0.9688 - val_loss: 0.2031 - val_accuracy: 0.9334\n",
      "Epoch 99/100\n",
      "2944/2944 [==============================] - 0s 15us/step - loss: 0.0848 - accuracy: 0.9718 - val_loss: 0.2035 - val_accuracy: 0.9361\n",
      "Epoch 100/100\n",
      "2944/2944 [==============================] - 0s 15us/step - loss: 0.0843 - accuracy: 0.9715 - val_loss: 0.2037 - val_accuracy: 0.9321\n"
     ]
    }
   ],
   "source": [
    "model = models.Sequential()\n",
    "#model.add(layers.Dropout(0.2))\n",
    "model.add(layers.Dense(32,activation='relu', input_shape=(57,)))\n",
    "#model.add(layers.Dense(32,activation='relu'))\n",
    "model.add(layers.Dense(1,activation='sigmoid'))\n",
    "model.compile(optimizer=optimizers.RMSprop(learning_rate=0.001), loss='binary_crossentropy', metrics=['accuracy'])\n",
    "history = model.fit(train_feature,train_label,epochs=100,batch_size=128,validation_data=(val_feature,val_label))"
   ]
  },
  {
   "cell_type": "code",
   "execution_count": 62,
   "metadata": {},
   "outputs": [
    {
     "data": {
      "image/png": "[encoded data removed]",
      "text/plain": [
       "<Figure size 432x288 with 1 Axes>"
      ]
     },
     "metadata": {
      "needs_background": "light"
     },
     "output_type": "display_data"
    }
   ],
   "source": [
    "history_dict=history.history\n",
    "import matplotlib.pyplot as plt\n",
    "loss_values=history_dict['loss']\n",
    "val_loss_values=history_dict['val_loss']\n",
    "epochs=range(1,len(loss_values)+1)\n",
    "\n",
    "#Loss Plot\n",
    "plt.plot(epochs,loss_values,'bo',label='Training Loss')\n",
    "plt.plot(epochs,val_loss_values,'b',label='Validation Loss')\n",
    "plt.title('Traning and Validation Loss')\n",
    "plt.xlabel(\"Epochs\")\n",
    "plt.ylabel(\"Loss\")\n",
    "plt.legend()\n",
    "plt.show()"
   ]
  },
  {
   "cell_type": "code",
   "execution_count": 63,
   "metadata": {},
   "outputs": [
    {
     "data": {
      "image/png": "[encoded data removed]",
      "text/plain": [
       "<Figure size 432x288 with 1 Axes>"
      ]
     },
     "metadata": {
      "needs_background": "light"
     },
     "output_type": "display_data"
    }
   ],
   "source": [
    "acc_values = history_dict['accuracy']\n",
    "val_acc_values = history_dict['val_accuracy']\n",
    "plt.plot(epochs,acc_values,'bo',label='Training Accuracy')\n",
    "plt.plot(epochs, val_acc_values,'b', label='Validation Accuracy')\n",
    "plt.title('Training and validation Accuracy')\n",
    "plt.xlabel('Epochs')\n",
    "plt.ylabel('Accuracy')\n",
    "plt.legend()\n",
    "plt.show()"
   ]
  },
  {
   "cell_type": "code",
   "execution_count": 64,
   "metadata": {},
   "outputs": [
    {
     "name": "stdout",
     "output_type": "stream",
     "text": [
      "Epoch 1/26\n",
      "3680/3680 [==============================] - 0s 34us/step - loss: 0.5584 - accuracy: 0.7465\n",
      "Epoch 2/26\n",
      "3680/3680 [==============================] - 0s 11us/step - loss: 0.3720 - accuracy: 0.8755\n",
      "Epoch 3/26\n",
      "3680/3680 [==============================] - 0s 11us/step - loss: 0.2955 - accuracy: 0.8967\n",
      "Epoch 4/26\n",
      "3680/3680 [==============================] - 0s 14us/step - loss: 0.2543 - accuracy: 0.9166\n",
      "Epoch 5/26\n",
      "3680/3680 [==============================] - 0s 13us/step - loss: 0.2298 - accuracy: 0.9245\n",
      "Epoch 6/26\n",
      "3680/3680 [==============================] - 0s 13us/step - loss: 0.2138 - accuracy: 0.9293\n",
      "Epoch 7/26\n",
      "3680/3680 [==============================] - 0s 13us/step - loss: 0.2027 - accuracy: 0.9321\n",
      "Epoch 8/26\n",
      "3680/3680 [==============================] - 0s 13us/step - loss: 0.1946 - accuracy: 0.9334\n",
      "Epoch 9/26\n",
      "3680/3680 [==============================] - 0s 14us/step - loss: 0.1879 - accuracy: 0.9345\n",
      "Epoch 10/26\n",
      "3680/3680 [==============================] - 0s 11us/step - loss: 0.1828 - accuracy: 0.9348\n",
      "Epoch 11/26\n",
      "3680/3680 [==============================] - 0s 12us/step - loss: 0.1781 - accuracy: 0.9364\n",
      "Epoch 12/26\n",
      "3680/3680 [==============================] - 0s 13us/step - loss: 0.1738 - accuracy: 0.9364\n",
      "Epoch 13/26\n",
      "3680/3680 [==============================] - 0s 13us/step - loss: 0.1705 - accuracy: 0.9389\n",
      "Epoch 14/26\n",
      "3680/3680 [==============================] - 0s 13us/step - loss: 0.1673 - accuracy: 0.9394\n",
      "Epoch 15/26\n",
      "3680/3680 [==============================] - 0s 11us/step - loss: 0.1640 - accuracy: 0.9413\n",
      "Epoch 16/26\n",
      "3680/3680 [==============================] - 0s 13us/step - loss: 0.1612 - accuracy: 0.9438\n",
      "Epoch 17/26\n",
      "3680/3680 [==============================] - 0s 20us/step - loss: 0.1586 - accuracy: 0.9438\n",
      "Epoch 18/26\n",
      "3680/3680 [==============================] - 0s 18us/step - loss: 0.1566 - accuracy: 0.9454\n",
      "Epoch 19/26\n",
      "3680/3680 [==============================] - 0s 14us/step - loss: 0.1540 - accuracy: 0.9454\n",
      "Epoch 20/26\n",
      "3680/3680 [==============================] - 0s 16us/step - loss: 0.1520 - accuracy: 0.9451\n",
      "Epoch 21/26\n",
      "3680/3680 [==============================] - 0s 14us/step - loss: 0.1498 - accuracy: 0.9470\n",
      "Epoch 22/26\n",
      "3680/3680 [==============================] - 0s 13us/step - loss: 0.1480 - accuracy: 0.9465\n",
      "Epoch 23/26\n",
      "3680/3680 [==============================] - 0s 13us/step - loss: 0.1463 - accuracy: 0.9486\n",
      "Epoch 24/26\n",
      "3680/3680 [==============================] - 0s 12us/step - loss: 0.1446 - accuracy: 0.9500\n",
      "Epoch 25/26\n",
      "3680/3680 [==============================] - 0s 11us/step - loss: 0.1430 - accuracy: 0.9505\n",
      "Epoch 26/26\n",
      "3680/3680 [==============================] - 0s 12us/step - loss: 0.1412 - accuracy: 0.9511\n"
     ]
    }
   ],
   "source": [
    "model = models.Sequential()\n",
    "#model.add(layers.Dropout(0.2))\n",
    "model.add(layers.Dense(32,activation='relu', input_shape=(57,)))\n",
    "#model.add(layers.Dense(32,activation='relu'))\n",
    "model.add(layers.Dense(1,activation='sigmoid'))\n",
    "model.compile(optimizer=optimizers.RMSprop(learning_rate=0.001), loss='binary_crossentropy', metrics=['accuracy'])\n",
    "history = model.fit(x_train,y_train, epochs=26,batch_size=128)"
   ]
  },
  {
   "cell_type": "code",
   "execution_count": 65,
   "metadata": {},
   "outputs": [
    {
     "name": "stdout",
     "output_type": "stream",
     "text": [
      "921/921 [==============================] - 0s 117us/step\n"
     ]
    }
   ],
   "source": [
    "results = model.evaluate(x_test, y_test)"
   ]
  },
  {
   "cell_type": "code",
   "execution_count": 66,
   "metadata": {},
   "outputs": [
    {
     "data": {
      "text/plain": [
       "[0.17023301258052212, 0.9315961003303528]"
      ]
     },
     "execution_count": 66,
     "metadata": {},
     "output_type": "execute_result"
    }
   ],
   "source": [
    "results"
   ]
  },
  {
   "cell_type": "code",
   "execution_count": 70,
   "metadata": {},
   "outputs": [],
   "source": [
    "model.save(r\"D:\\Data Science\\deep learning\\assignment-1\\Q2-model.h5\")"
   ]
  },
  {
   "cell_type": "code",
   "execution_count": 71,
   "metadata": {},
   "outputs": [],
   "source": [
    "loaded_model = load_model(r\"D:\\Data Science\\deep learning\\assignment-1\\Q2-model.h5\")"
   ]
  },
  {
   "cell_type": "code",
   "execution_count": 72,
   "metadata": {},
   "outputs": [
    {
     "name": "stdout",
     "output_type": "stream",
     "text": [
      "921/921 [==============================] - 0s 38us/step\n"
     ]
    },
    {
     "data": {
      "text/plain": [
       "[0.17023301258052212, 0.9315961003303528]"
      ]
     },
     "execution_count": 72,
     "metadata": {},
     "output_type": "execute_result"
    }
   ],
   "source": [
    "loaded_model.evaluate(x_test, y_test)"
   ]
  }
 ],
 "metadata": {
  "kernelspec": {
   "display_name": "Python 3",
   "language": "python",
   "name": "python3"
  },
  "language_info": {
   "codemirror_mode": {
    "name": "ipython",
    "version": 3
   },
   "file_extension": ".py",
   "mimetype": "text/x-python",
   "name": "python",
   "nbconvert_exporter": "python",
   "pygments_lexer": "ipython3",
   "version": "3.7.3"
  }
 },
 "nbformat": 4,
 "nbformat_minor": 2
}
