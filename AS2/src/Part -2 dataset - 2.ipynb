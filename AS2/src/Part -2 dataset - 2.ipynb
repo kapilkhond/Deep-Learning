{
 "cells": [
  {
   "cell_type": "code",
   "execution_count": 48,
   "metadata": {},
   "outputs": [],
   "source": [
    "import numpy as np\n",
    "import pandas as pd\n",
    "import matplotlib.pyplot as plt\n",
    "from sklearn.model_selection import train_test_split\n",
    "from sklearn.preprocessing import OneHotEncoder"
   ]
  },
  {
   "cell_type": "code",
   "execution_count": 49,
   "metadata": {},
   "outputs": [],
   "source": [
    "# reading the data\n",
    "wheat_data = pd.read_csv(r\"D:\\Data Science\\deep learning\\assignment-2\\wheat.csv\")\n",
    "#ris_data.head()\n",
    "features = wheat_data.iloc[:,:-1]\n",
    "label = wheat_data.iloc[:,-1:]"
   ]
  },
  {
   "cell_type": "code",
   "execution_count": 50,
   "metadata": {},
   "outputs": [
    {
     "name": "stderr",
     "output_type": "stream",
     "text": [
      "C:\\Users\\kapil\\Anaconda3\\lib\\site-packages\\sklearn\\preprocessing\\_encoders.py:415: FutureWarning: The handling of integer data will change in version 0.22. Currently, the categories are determined based on the range [0, max(values)], while in the future they will be determined based on the unique values.\n",
      "If you want the future behaviour and silence this warning, you can specify \"categories='auto'\".\n",
      "In case you used a LabelEncoder before this OneHotEncoder to convert the categories to integers, then you can now use the OneHotEncoder directly.\n",
      "  warnings.warn(msg, FutureWarning)\n"
     ]
    }
   ],
   "source": [
    "encoder = OneHotEncoder()\n",
    "label=np.reshape(label, (label.shape[0], 1))\n",
    "label= encoder.fit_transform(label).toarray()\n",
    "#label = labelencoder_X.fit_transform(label)"
   ]
  },
  {
   "cell_type": "code",
   "execution_count": 51,
   "metadata": {},
   "outputs": [],
   "source": [
    "x_train,x_test,y_train,y_test = train_test_split(features, label,test_size = 0.2)"
   ]
  },
  {
   "cell_type": "code",
   "execution_count": 52,
   "metadata": {},
   "outputs": [],
   "source": [
    "# normalizing the data using mean and standard deviation of training data \n",
    "train_mean = x_train.mean(axis=0)\n",
    "train_std = x_train.std(axis=0)\n",
    "#print ((train_mean))\n",
    "x_train = ((x_train - train_mean )/train_std*1.0)\n",
    "x_test = ((x_test - train_mean)/train_std*1.0)"
   ]
  },
  {
   "cell_type": "code",
   "execution_count": 53,
   "metadata": {},
   "outputs": [],
   "source": [
    "x_train,x_val,y_train,y_val = train_test_split(x_train, y_train,test_size = 0.2)"
   ]
  },
  {
   "cell_type": "code",
   "execution_count": 54,
   "metadata": {},
   "outputs": [],
   "source": [
    "class Neural_Network(object):\n",
    "    def __init__(self):        \n",
    "        #Define Hyperparameters\n",
    "        self.inputLayerSize = 7\n",
    "        self.outputLayerSize = 3\n",
    "        self.hiddenLayerSize_1 = 10\n",
    "        self.hiddenLayerSize_2 = 10\n",
    "        self.lr = 0.01\n",
    "        \n",
    "        #self.loss= 0\n",
    "        \n",
    "        #Weights (parameters)\n",
    "        self.W1 = np.random.randn(self.inputLayerSize, self.hiddenLayerSize_1)\n",
    "        self.W2 = np.random.randn(self.hiddenLayerSize_1, self.hiddenLayerSize_2)\n",
    "        self.W3 = np.random.randn(self.hiddenLayerSize_2, self.outputLayerSize)\n",
    "        \n",
    "    def forward(self, X):\n",
    "        #Propagate inputs though network\n",
    "        self.z1 = np.dot(X, self.W1)\n",
    "        self.a1 = self.sigmoid(self.z1)\n",
    "        #self.a1 = np.vstack((bias,self.a1))\n",
    "        self.z2 = np.dot(self.a1, self.W2)\n",
    "        self.a2 = self.sigmoid(self.z2)\n",
    "        #self.a2 = np.vstack((bias,self.a2))\n",
    "        self.z3 = np.dot(self.a2, self.W3)\n",
    "        self.y_hat= self.soft_max(self.z3.T)\n",
    "        return 0\n",
    "        \n",
    "    def backward(self,X, Y):\n",
    "         der_cost_z3 = self.y_hat.T - Y\n",
    "         der_z3_w3 = self.a2 \n",
    "         self.der_W3 = np.dot(der_z3_w3.T,der_cost_z3)\n",
    "         self.der_W2 = np.dot((self.a1.T),(self.der_sigmoid(self.z2)*np.dot(der_cost_z3,self.W3.T)))   \n",
    "         #print (der_cost_z3.shape)\n",
    "         der_z1_dw1 = X\n",
    "         der_cost_a2 = np.dot(der_cost_z3,self.W3.T)\n",
    "         der_z2 = self.der_sigmoid(self.z2)\n",
    "         der_z1 = self.der_sigmoid(self.z1)\n",
    "         der_z2_a1 = self.W2\n",
    "         inter = ((der_cost_a2)*(der_z2 * np.dot(der_z1,der_z2_a1)))\n",
    "         self.der_W1 = np.dot(der_z1_dw1.T,inter)\n",
    "         #print (der_cost_a2.shape,(der_z2 * np.dot(der_z1,der_z2_a1)).shape)\n",
    "         return (0)\n",
    "        \n",
    "    def sigmoid(self,z):\n",
    "        #Apply sigmoid activation function to scalar, vector, or matrix\n",
    "        return 1/(1+np.exp(-z))    \n",
    "    \n",
    "    def der_sigmoid(self, z):\n",
    "        return self.sigmoid(z)*(1-self.sigmoid(z))\n",
    "    \n",
    "    def soft_max(self,z):\n",
    "        #Apply soft max activation function to scalar, vector, or matrix\n",
    "        return np.exp(z) / np.sum(np.exp(z), axis=0)\n",
    "    \n",
    "    def cost_function(self,X,actual_label):\n",
    "        self.forward(X)\n",
    "        self.cost = 0\n",
    "        for x,y in zip(actual_label,self.y_hat.T):\n",
    "            self.cost += np.sum(x*np.log(y))\n",
    "        return (-1*self.cost)\n",
    "   \n",
    "    def update_weights(self):  \n",
    "        self.W1 -= self.lr*self.der_W1\n",
    "        self.W2 -= self.lr*self.der_W2\n",
    "        self.W3 -= self.lr*self.der_W3\n",
    "    \n",
    "    def evaluate (self,X,Y):\n",
    "        nn.forward(X)\n",
    "        accuracy = 0\n",
    "        cost = 0\n",
    "        pred_label = []\n",
    "        for i in nn.y_hat.T:\n",
    "                max_value = np.max(i)\n",
    "                pred_label.append(list(np.where(i==max_value,1,0)))\n",
    "\n",
    "        count = 0\n",
    "        for i,j in zip(y_val,pred_label):\n",
    "                if ((i[0] == j[0]) & (i[1] == j[1]) & (i[2] == j[2])):\n",
    "                    count +=1\n",
    "\n",
    "        accuracy = ((count/x_val.shape[0])*100)\n",
    "        cost = (nn.cost_function(X,Y))\n",
    "        return (accuracy,cost)\n",
    "        "
   ]
  },
  {
   "cell_type": "code",
   "execution_count": 67,
   "metadata": {},
   "outputs": [],
   "source": [
    "accuracy = []\n",
    "cost = []\n",
    "val_accuracy = []\n",
    "val_cost = []\n",
    "nn = Neural_Network()\n",
    "for epoch_number in range(1000):\n",
    "    cost.append(nn.cost_function(x_train,y_train))\n",
    "    pred_label = []\n",
    "    for i in nn.y_hat.T:\n",
    "        max_value = np.max(i)\n",
    "        pred_label.append(list(np.where(i==max_value,1,0)))\n",
    "\n",
    "    count = 0\n",
    "    for i,j in zip(y_train,pred_label):\n",
    "        if ((i[0] == j[0]) & (i[1] == j[1]) & (i[2] == j[2])):\n",
    "            count +=1\n",
    "    accuracy.append((count/y_train.shape[0])*100)\n",
    "    nn.backward(x_train,y_train)\n",
    "    nn.update_weights()\n",
    "    temp = nn.evaluate(x_val,y_val)\n",
    "    val_accuracy.append(temp[0])\n",
    "    val_cost.append(temp[1])"
   ]
  },
  {
   "cell_type": "code",
   "execution_count": 69,
   "metadata": {
    "scrolled": true
   },
   "outputs": [
    {
     "data": {
      "image/png": "[encoded data removed]",
      "text/plain": [
       "<Figure size 432x288 with 1 Axes>"
      ]
     },
     "metadata": {
      "needs_background": "light"
     },
     "output_type": "display_data"
    }
   ],
   "source": [
    "import matplotlib.pyplot as plt\n",
    "plt.plot(range(1000),accuracy)\n",
    "plt.plot(range(1000),val_accuracy)\n",
    "plt.show()"
   ]
  },
  {
   "cell_type": "code",
   "execution_count": 70,
   "metadata": {},
   "outputs": [
    {
     "data": {
      "image/png": "[encoded data removed]",
      "text/plain": [
       "<Figure size 432x288 with 1 Axes>"
      ]
     },
     "metadata": {
      "needs_background": "light"
     },
     "output_type": "display_data"
    }
   ],
   "source": [
    "import matplotlib.pyplot as plt\n",
    "plt.plot(range(1000),cost)\n",
    "plt.plot(range(1000),val_cost)\n",
    "plt.show()"
   ]
  },
  {
   "cell_type": "code",
   "execution_count": 73,
   "metadata": {},
   "outputs": [],
   "source": [
    "X_train,Y_train = np.concatenate([x_train,x_val]),np.concatenate([y_train,y_val])"
   ]
  },
  {
   "cell_type": "code",
   "execution_count": 82,
   "metadata": {},
   "outputs": [
    {
     "name": "stdout",
     "output_type": "stream",
     "text": [
      "accuracy\n",
      "96.8503937007874\n",
      "loss\n",
      "9.788982288882657\n"
     ]
    }
   ],
   "source": [
    "\n",
    "accuracy = []\n",
    "cost = []\n",
    "val_accuracy = []\n",
    "val_cost = []\n",
    "nn = Neural_Network()\n",
    "for epoch_number in range(400):\n",
    "    cost.append(nn.cost_function(X_train,Y_train))\n",
    "    pred_label = []\n",
    "    for i in nn.y_hat.T:\n",
    "        max_value = np.max(i)\n",
    "        pred_label.append(list(np.where(i==max_value,1,0)))\n",
    "\n",
    "    count = 0\n",
    "    for i,j in zip(y_train,pred_label):\n",
    "        if ((i[0] == j[0]) & (i[1] == j[1]) & (i[2] == j[2])):\n",
    "            count +=1\n",
    "    accuracy.append((count/y_train.shape[0])*100)\n",
    "    nn.backward(X_train,Y_train)\n",
    "    nn.update_weights()\n",
    "print (\"accuracy\")\n",
    "print (accuracy[-1])\n",
    "print (\"loss\")\n",
    "print (cost[-1])"
   ]
  },
  {
   "cell_type": "code",
   "execution_count": 83,
   "metadata": {},
   "outputs": [
    {
     "name": "stdout",
     "output_type": "stream",
     "text": [
      "40\n",
      "37\n",
      "92.5\n",
      "3.961095160307607\n"
     ]
    }
   ],
   "source": [
    "# for test set\n",
    "nn.forward(x_test)\n",
    "accuracy = []\n",
    "cost = 0\n",
    "pred_label = []\n",
    "for i in nn.y_hat.T:\n",
    "        max_value = np.max(i)\n",
    "        pred_label.append(list(np.where(i==max_value,1,0)))\n",
    "\n",
    "count = 0\n",
    "for i,j in zip(y_test,pred_label):\n",
    "        if ((i[0] == j[0]) & (i[1] == j[1]) & (i[2] == j[2])):\n",
    "            count +=1\n",
    "\n",
    "accuracy = ((count/x_test.shape[0])*100)\n",
    "print (y_test.shape[0])\n",
    "cost = (nn.cost_function(x_test,y_test))\n",
    "print (count)\n",
    "print (accuracy)\n",
    "print (cost)"
   ]
  },
  {
   "cell_type": "code",
   "execution_count": null,
   "metadata": {},
   "outputs": [],
   "source": [
    "#run this line to save your model\n",
    "#np.save(r\"D:\\Data Science\\deep learning\\assignment-2\\model-2\", [nn.W1,nn.W2,nn.W3])"
   ]
  },
  {
   "cell_type": "code",
   "execution_count": 115,
   "metadata": {},
   "outputs": [
    {
     "name": "stdout",
     "output_type": "stream",
     "text": [
      "accuracy is 92.5\n",
      "loss is  3.961095160307607\n"
     ]
    }
   ],
   "source": [
    "# load model and make prediction on test set\n",
    "model = np.load(r\"D:\\Data Science\\deep learning\\assignment-2\\model-2.npy\",  allow_pickle=True)\n",
    "w1 = model[0]\n",
    "w2 = model[1]\n",
    "w3 = model[2]\n",
    "#Propagate inputs though network\n",
    "def sigmoid(z):\n",
    "        #Apply sigmoid activation function to scalar, vector, or matrix\n",
    "        return 1/(1+np.exp(-z))\n",
    "def soft_max(z):\n",
    "        #Apply soft max activation function to scalar, vector, or matrix\n",
    "        return np.exp(z) / np.sum(np.exp(z), axis=0)    \n",
    "def evaluate_test(X):\n",
    "    z1 = np.dot(X, w1)\n",
    "    a1 = sigmoid(z1)\n",
    "    z2 = np.dot(a1, w2)\n",
    "    a2 = sigmoid(z2)\n",
    "    z3 = np.dot(a2, w3)\n",
    "    y_hat= soft_max(z3.T)\n",
    "    return (y_hat)\n",
    "y_hat = evaluate_test(x_test)\n",
    "accuracy = []\n",
    "cost = 0\n",
    "pred_label = []\n",
    "for i in y_hat.T:\n",
    "        max_value = np.max(i)\n",
    "        pred_label.append(list(np.where(i==max_value,1,0)))\n",
    "\n",
    "count = 0\n",
    "for i,j in zip(y_test,pred_label):\n",
    "        if ((i[0] == j[0]) & (i[1] == j[1]) & (i[2] == j[2])):\n",
    "            count +=1\n",
    "\n",
    "accuracy = ((count/x_test.shape[0])*100)\n",
    "cost = (nn.cost_function(x_test,y_test))\n",
    "\n",
    "print (\"accuracy is\",accuracy)\n",
    "print (\"loss is \",cost)\n",
    "        "
   ]
  },
  {
   "cell_type": "code",
   "execution_count": 105,
   "metadata": {},
   "outputs": [],
   "source": []
  },
  {
   "cell_type": "code",
   "execution_count": null,
   "metadata": {},
   "outputs": [],
   "source": []
  },
  {
   "cell_type": "code",
   "execution_count": null,
   "metadata": {},
   "outputs": [],
   "source": []
  }
 ],
 "metadata": {
  "kernelspec": {
   "display_name": "Python 3",
   "language": "python",
   "name": "python3"
  },
  "language_info": {
   "codemirror_mode": {
    "name": "ipython",
    "version": 3
   },
   "file_extension": ".py",
   "mimetype": "text/x-python",
   "name": "python",
   "nbconvert_exporter": "python",
   "pygments_lexer": "ipython3",
   "version": "3.7.3"
  }
 },
 "nbformat": 4,
 "nbformat_minor": 2
}
