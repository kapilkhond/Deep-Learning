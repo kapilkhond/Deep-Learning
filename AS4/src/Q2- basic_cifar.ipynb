{
  "nbformat": 4,
  "nbformat_minor": 0,
  "metadata": {
    "kernelspec": {
      "name": "python3",
      "display_name": "Python 3"
    },
    "language_info": {
      "codemirror_mode": {
        "name": "ipython",
        "version": 3
      },
      "file_extension": ".py",
      "mimetype": "text/x-python",
      "name": "python",
      "nbconvert_exporter": "python",
      "pygments_lexer": "ipython3",
      "version": "3.7.4"
    },
    "colab": {
      "name": "basic-cifar.ipynb",
      "provenance": [],
      "collapsed_sections": []
    },
    "accelerator": "GPU"
  },
  "cells": [
    {
      "cell_type": "code",
      "metadata": {
        "id": "1HM0iYxk9lmG",
        "colab_type": "code",
        "colab": {
          "base_uri": "https://localhost:8080/",
          "height": 54
        },
        "outputId": "44f9f29e-0f02-44ea-8ad5-d665206472af"
      },
      "source": [
        "import time\n",
        "import matplotlib.pyplot as plt\n",
        "import matplotlib.image as mpimg\n",
        "import numpy as np\n",
        "import itertools\n",
        "\n",
        "import keras\n",
        "from keras.utils.np_utils import to_categorical\n",
        "from keras.callbacks import ModelCheckpoint\n",
        "from keras.optimizers import Adam\n",
        "from keras.optimizers import RMSprop\n",
        "from keras.models import Sequential\n",
        "import itertools\n",
        "from keras.layers.normalization import BatchNormalization\n",
        "from keras.utils.np_utils import to_categorical\n",
        "from sklearn.model_selection import train_test_split\n",
        "\n",
        "from keras.datasets import cifar10\n",
        "(x_train, y_train), (x_test, y_test) = cifar10.load_data()\n",
        "\n",
        "class_names = ['airplane','automobile','bird','cat','deer',\n",
        "               'dog','frog','horse','ship','truck']"
      ],
      "execution_count": 4,
      "outputs": [
        {
          "output_type": "stream",
          "text": [
            "Downloading data from https://www.cs.toronto.edu/~kriz/cifar-10-python.tar.gz\n",
            "170500096/170498071 [==============================] - 6s 0us/step\n"
          ],
          "name": "stdout"
        }
      ]
    },
    {
      "cell_type": "code",
      "metadata": {
        "id": "JFZoBaM49lmQ",
        "colab_type": "code",
        "colab": {
          "base_uri": "https://localhost:8080/",
          "height": 35
        },
        "outputId": "c769f320-aab9-42d8-bcc8-058b928b7598"
      },
      "source": [
        "x_train.shape"
      ],
      "execution_count": 3,
      "outputs": [
        {
          "output_type": "execute_result",
          "data": {
            "text/plain": [
              "(50000, 32, 32, 3)"
            ]
          },
          "metadata": {
            "tags": []
          },
          "execution_count": 3
        }
      ]
    },
    {
      "cell_type": "code",
      "metadata": {
        "id": "6eJHvzeT9lmX",
        "colab_type": "code",
        "colab": {
          "base_uri": "https://localhost:8080/",
          "height": 35
        },
        "outputId": "0a7f2993-14d5-4f8c-8390-3dd4d08f1789"
      },
      "source": [
        "# x_train = np.reshape(x_train,(50000,3072))\n",
        "# print(x_train.shape)\n",
        "# x_test = np.reshape(x_test,(10000,3072))\n",
        "\n",
        "#standardizing\n",
        "x_train_mean = np.mean(x_train)\n",
        "x_train_std  = np.std(x_train)\n",
        "\n",
        "x_test_mean = np.mean(x_test)\n",
        "x_test_std = np.std(x_test)\n",
        "\n",
        "x_train = (x_train - x_train_mean) / x_train_std\n",
        "x_test  = (x_test - x_test_mean) / x_test_std \n",
        "\n",
        "print(np.unique(y_train))\n",
        "y_train = to_categorical(y_train)\n",
        "y_test = to_categorical(y_test)\n",
        "\n",
        "x_train, x_validate, y_train, y_validate = train_test_split(x_train, y_train, test_size = 0.2, random_state = 1201)"
      ],
      "execution_count": 5,
      "outputs": [
        {
          "output_type": "stream",
          "text": [
            "[0 1 2 3 4 5 6 7 8 9]\n"
          ],
          "name": "stdout"
        }
      ]
    },
    {
      "cell_type": "code",
      "metadata": {
        "scrolled": false,
        "id": "LFbvvG8y9lmc",
        "colab_type": "code",
        "colab": {
          "base_uri": "https://localhost:8080/",
          "height": 599
        },
        "outputId": "fa472f7d-5465-44b5-d182-39f662b8cea1"
      },
      "source": [
        "from keras import layers\n",
        "from keras import models\n",
        "from keras.models import Sequential\n",
        "from keras.layers import Dense, Dropout, Flatten, Conv2D, MaxPool2D\n",
        "from keras import backend as K\n",
        "import itertools\n",
        "from keras.layers.normalization import BatchNormalization\n",
        "from keras.applications.vgg16 import VGG16\n",
        "\n",
        "model1 = models.Sequential()\n",
        "\n",
        "model1.add(layers.Conv2D(32, (3, 3), activation = 'relu', padding = 'same', input_shape = (32, 32, 3)))\n",
        "model1.add(layers.MaxPooling2D((2, 2)))\n",
        "model1.add(BatchNormalization())\n",
        "\n",
        "model1.add(layers.Conv2D(128, (3, 3), padding = 'same', activation = 'relu'))\n",
        "model1.add(layers.MaxPooling2D((2, 2)))\n",
        "model1.add(BatchNormalization())\n",
        "\n",
        "model1.add(Dropout(0.50))\n",
        "model1.add(layers.Flatten())\n",
        "\n",
        "model1.add(layers.Dense(512, activation = 'relu'))\n",
        "model1.add(BatchNormalization())\n",
        "model1.add(Dropout(0.50))\n",
        "\n",
        "model1.add(layers.Dense(10,activation = 'softmax'))\n",
        "\n",
        "model1.summary()"
      ],
      "execution_count": 10,
      "outputs": [
        {
          "output_type": "stream",
          "text": [
            "Model: \"sequential_2\"\n",
            "_________________________________________________________________\n",
            "Layer (type)                 Output Shape              Param #   \n",
            "=================================================================\n",
            "conv2d_3 (Conv2D)            (None, 32, 32, 32)        896       \n",
            "_________________________________________________________________\n",
            "max_pooling2d_3 (MaxPooling2 (None, 16, 16, 32)        0         \n",
            "_________________________________________________________________\n",
            "batch_normalization_4 (Batch (None, 16, 16, 32)        128       \n",
            "_________________________________________________________________\n",
            "conv2d_4 (Conv2D)            (None, 16, 16, 128)       36992     \n",
            "_________________________________________________________________\n",
            "max_pooling2d_4 (MaxPooling2 (None, 8, 8, 128)         0         \n",
            "_________________________________________________________________\n",
            "batch_normalization_5 (Batch (None, 8, 8, 128)         512       \n",
            "_________________________________________________________________\n",
            "dropout_3 (Dropout)          (None, 8, 8, 128)         0         \n",
            "_________________________________________________________________\n",
            "flatten_2 (Flatten)          (None, 8192)              0         \n",
            "_________________________________________________________________\n",
            "dense_3 (Dense)              (None, 512)               4194816   \n",
            "_________________________________________________________________\n",
            "batch_normalization_6 (Batch (None, 512)               2048      \n",
            "_________________________________________________________________\n",
            "dropout_4 (Dropout)          (None, 512)               0         \n",
            "_________________________________________________________________\n",
            "dense_4 (Dense)              (None, 10)                5130      \n",
            "=================================================================\n",
            "Total params: 4,240,522\n",
            "Trainable params: 4,239,178\n",
            "Non-trainable params: 1,344\n",
            "_________________________________________________________________\n"
          ],
          "name": "stdout"
        }
      ]
    },
    {
      "cell_type": "code",
      "metadata": {
        "id": "PEBg3vwD9lmg",
        "colab_type": "code",
        "colab": {}
      },
      "source": [
        "model1.compile(loss='categorical_crossentropy',\n",
        "               optimizer= RMSprop(),\n",
        "               metrics=['accuracy'])"
      ],
      "execution_count": 0,
      "outputs": []
    },
    {
      "cell_type": "code",
      "metadata": {
        "scrolled": true,
        "id": "DoBznoye9lmn",
        "colab_type": "code",
        "colab": {
          "base_uri": "https://localhost:8080/",
          "height": 1000
        },
        "outputId": "dc51d23f-3d0b-4c35-f387-6a72ae2302ae"
      },
      "source": [
        "model1.compile(loss='categorical_crossentropy',\n",
        "               optimizer= RMSprop(),\n",
        "               metrics=['accuracy'])\n",
        "history1 = model1.fit(x_train, y_train,\n",
        "           epochs=40,\n",
        "           batch_size = 100,\n",
        "           validation_data = (x_validate, y_validate),\n",
        "           verbose = 1) "
      ],
      "execution_count": 12,
      "outputs": [
        {
          "output_type": "stream",
          "text": [
            "Train on 40000 samples, validate on 10000 samples\n",
            "Epoch 1/40\n",
            "40000/40000 [==============================] - 6s 146us/step - loss: 1.5606 - accuracy: 0.5052 - val_loss: 1.2585 - val_accuracy: 0.5500\n",
            "Epoch 2/40\n",
            "40000/40000 [==============================] - 5s 131us/step - loss: 1.0217 - accuracy: 0.6432 - val_loss: 0.8746 - val_accuracy: 0.6997\n",
            "Epoch 3/40\n",
            "40000/40000 [==============================] - 5s 132us/step - loss: 0.8703 - accuracy: 0.6937 - val_loss: 0.8344 - val_accuracy: 0.7127\n",
            "Epoch 4/40\n",
            "40000/40000 [==============================] - 5s 132us/step - loss: 0.7715 - accuracy: 0.7308 - val_loss: 0.8018 - val_accuracy: 0.7264\n",
            "Epoch 5/40\n",
            "40000/40000 [==============================] - 5s 132us/step - loss: 0.6996 - accuracy: 0.7558 - val_loss: 0.8244 - val_accuracy: 0.7215\n",
            "Epoch 6/40\n",
            "40000/40000 [==============================] - 5s 131us/step - loss: 0.6394 - accuracy: 0.7773 - val_loss: 0.7752 - val_accuracy: 0.7369\n",
            "Epoch 7/40\n",
            "40000/40000 [==============================] - 5s 132us/step - loss: 0.5807 - accuracy: 0.7984 - val_loss: 0.7328 - val_accuracy: 0.7586\n",
            "Epoch 8/40\n",
            "40000/40000 [==============================] - 5s 132us/step - loss: 0.5452 - accuracy: 0.8100 - val_loss: 0.7225 - val_accuracy: 0.7638\n",
            "Epoch 9/40\n",
            "40000/40000 [==============================] - 5s 132us/step - loss: 0.5003 - accuracy: 0.8267 - val_loss: 0.7564 - val_accuracy: 0.7625\n",
            "Epoch 10/40\n",
            "40000/40000 [==============================] - 5s 132us/step - loss: 0.4662 - accuracy: 0.8376 - val_loss: 0.7435 - val_accuracy: 0.7646\n",
            "Epoch 11/40\n",
            "40000/40000 [==============================] - 5s 132us/step - loss: 0.4472 - accuracy: 0.8461 - val_loss: 0.7659 - val_accuracy: 0.7698\n",
            "Epoch 12/40\n",
            "40000/40000 [==============================] - 5s 131us/step - loss: 0.4199 - accuracy: 0.8547 - val_loss: 0.8288 - val_accuracy: 0.7714\n",
            "Epoch 13/40\n",
            "40000/40000 [==============================] - 5s 131us/step - loss: 0.3944 - accuracy: 0.8642 - val_loss: 0.7253 - val_accuracy: 0.7714\n",
            "Epoch 14/40\n",
            "40000/40000 [==============================] - 5s 132us/step - loss: 0.3846 - accuracy: 0.8683 - val_loss: 0.7754 - val_accuracy: 0.7786\n",
            "Epoch 15/40\n",
            "40000/40000 [==============================] - 5s 135us/step - loss: 0.3627 - accuracy: 0.8759 - val_loss: 0.7865 - val_accuracy: 0.7744\n",
            "Epoch 16/40\n",
            "40000/40000 [==============================] - 5s 136us/step - loss: 0.3458 - accuracy: 0.8791 - val_loss: 0.7525 - val_accuracy: 0.7815\n",
            "Epoch 17/40\n",
            "40000/40000 [==============================] - 5s 133us/step - loss: 0.3337 - accuracy: 0.8872 - val_loss: 0.7687 - val_accuracy: 0.7806\n",
            "Epoch 18/40\n",
            "40000/40000 [==============================] - 5s 132us/step - loss: 0.3222 - accuracy: 0.8906 - val_loss: 0.7835 - val_accuracy: 0.7768\n",
            "Epoch 19/40\n",
            "40000/40000 [==============================] - 5s 132us/step - loss: 0.3117 - accuracy: 0.8944 - val_loss: 0.7668 - val_accuracy: 0.7736\n",
            "Epoch 20/40\n",
            "40000/40000 [==============================] - 5s 132us/step - loss: 0.3034 - accuracy: 0.8980 - val_loss: 0.7320 - val_accuracy: 0.7690\n",
            "Epoch 21/40\n",
            "40000/40000 [==============================] - 5s 136us/step - loss: 0.2875 - accuracy: 0.9018 - val_loss: 0.7797 - val_accuracy: 0.7816\n",
            "Epoch 22/40\n",
            "40000/40000 [==============================] - 5s 132us/step - loss: 0.2803 - accuracy: 0.9061 - val_loss: 0.8295 - val_accuracy: 0.7791\n",
            "Epoch 23/40\n",
            "40000/40000 [==============================] - 5s 132us/step - loss: 0.2726 - accuracy: 0.9084 - val_loss: 0.7707 - val_accuracy: 0.7878\n",
            "Epoch 24/40\n",
            "40000/40000 [==============================] - 5s 132us/step - loss: 0.2689 - accuracy: 0.9092 - val_loss: 0.7864 - val_accuracy: 0.7816\n",
            "Epoch 25/40\n",
            "40000/40000 [==============================] - 5s 132us/step - loss: 0.2623 - accuracy: 0.9111 - val_loss: 0.8346 - val_accuracy: 0.7840\n",
            "Epoch 26/40\n",
            "40000/40000 [==============================] - 5s 133us/step - loss: 0.2536 - accuracy: 0.9136 - val_loss: 0.8151 - val_accuracy: 0.7836\n",
            "Epoch 27/40\n",
            "40000/40000 [==============================] - 5s 132us/step - loss: 0.2506 - accuracy: 0.9161 - val_loss: 0.8020 - val_accuracy: 0.7808\n",
            "Epoch 28/40\n",
            "40000/40000 [==============================] - 5s 132us/step - loss: 0.2371 - accuracy: 0.9182 - val_loss: 0.8362 - val_accuracy: 0.7744\n",
            "Epoch 29/40\n",
            "40000/40000 [==============================] - 5s 130us/step - loss: 0.2326 - accuracy: 0.9212 - val_loss: 0.8090 - val_accuracy: 0.7804\n",
            "Epoch 30/40\n",
            "40000/40000 [==============================] - 5s 130us/step - loss: 0.2331 - accuracy: 0.9229 - val_loss: 0.7961 - val_accuracy: 0.7819\n",
            "Epoch 31/40\n",
            "40000/40000 [==============================] - 5s 133us/step - loss: 0.2227 - accuracy: 0.9236 - val_loss: 0.8172 - val_accuracy: 0.7823\n",
            "Epoch 32/40\n",
            "40000/40000 [==============================] - 5s 133us/step - loss: 0.2230 - accuracy: 0.9249 - val_loss: 0.9913 - val_accuracy: 0.7795\n",
            "Epoch 33/40\n",
            "40000/40000 [==============================] - 5s 132us/step - loss: 0.2156 - accuracy: 0.9276 - val_loss: 0.8667 - val_accuracy: 0.7840\n",
            "Epoch 34/40\n",
            "40000/40000 [==============================] - 5s 133us/step - loss: 0.2103 - accuracy: 0.9292 - val_loss: 0.9147 - val_accuracy: 0.7883\n",
            "Epoch 35/40\n",
            "40000/40000 [==============================] - 5s 132us/step - loss: 0.1995 - accuracy: 0.9311 - val_loss: 0.8293 - val_accuracy: 0.7871\n",
            "Epoch 36/40\n",
            "40000/40000 [==============================] - 5s 131us/step - loss: 0.2005 - accuracy: 0.9326 - val_loss: 0.8596 - val_accuracy: 0.7839\n",
            "Epoch 37/40\n",
            "40000/40000 [==============================] - 5s 133us/step - loss: 0.2009 - accuracy: 0.9338 - val_loss: 0.9276 - val_accuracy: 0.7803\n",
            "Epoch 38/40\n",
            "40000/40000 [==============================] - 5s 133us/step - loss: 0.1982 - accuracy: 0.9325 - val_loss: 0.8825 - val_accuracy: 0.7847\n",
            "Epoch 39/40\n",
            "40000/40000 [==============================] - 5s 131us/step - loss: 0.1933 - accuracy: 0.9347 - val_loss: 0.8984 - val_accuracy: 0.7851\n",
            "Epoch 40/40\n",
            "40000/40000 [==============================] - 5s 132us/step - loss: 0.1885 - accuracy: 0.9373 - val_loss: 0.8499 - val_accuracy: 0.7869\n"
          ],
          "name": "stdout"
        }
      ]
    },
    {
      "cell_type": "code",
      "metadata": {
        "id": "QOVJqzld9lmt",
        "colab_type": "code",
        "colab": {
          "base_uri": "https://localhost:8080/",
          "height": 265
        },
        "outputId": "ec3edce5-1764-489b-a7aa-12657e19d02a"
      },
      "source": [
        "import matplotlib.pyplot as plt\n",
        "\n",
        "fig, axs = plt.subplots(2,1)\n",
        "axs[0].plot(history1.history['loss'], color = 'b', label = \"Training Loss\")\n",
        "axs[0].plot(history1.history['val_loss'], color = 'r', label = \"Validation Loss\", axes = axs[0])\n",
        "legend = axs[0].legend(loc='best', shadow = True)\n",
        "\n",
        "axs[1].plot(history1.history['accuracy'], color = 'b', label = \"Training Accuracy\")\n",
        "axs[1].plot(history1.history['val_accuracy'], color = 'r', label = \"Validation Accuracy\")\n",
        "legend = axs[1].legend(loc='best', shadow = True)"
      ],
      "execution_count": 17,
      "outputs": [
        {
          "output_type": "display_data",
          "data": {
            "image/png": "[encoded data removed]",
            "text/plain": [
              "<Figure size 432x288 with 2 Axes>"
            ]
          },
          "metadata": {
            "tags": [],
            "needs_background": "light"
          }
        }
      ]
    },
    {
      "cell_type": "code",
      "metadata": {
        "id": "OrRDKCtmPPwB",
        "colab_type": "code",
        "colab": {
          "base_uri": "https://localhost:8080/",
          "height": 654
        },
        "outputId": "4a9ad087-334d-4db2-db2b-bc50e3aaf516"
      },
      "source": [
        "from keras import layers\n",
        "from keras import models\n",
        "from keras.models import Sequential\n",
        "from keras.layers import Dense, Dropout, Flatten, Conv2D, MaxPool2D\n",
        "from keras import backend as K\n",
        "import itertools\n",
        "from keras.layers.normalization import BatchNormalization\n",
        "from keras.applications.vgg16 import VGG16\n",
        "\n",
        "model_base = models.Sequential()\n",
        "\n",
        "model_base.add(layers.Conv2D(32, (3, 3), activation = 'relu', padding = 'same', input_shape = (32, 32, 3)))\n",
        "model_base.add(layers.MaxPooling2D((2, 2)))\n",
        "model_base.add(BatchNormalization())\n",
        "\n",
        "model_base.add(layers.Conv2D(128, (3, 3), padding = 'same', activation = 'relu'))\n",
        "model_base.add(layers.MaxPooling2D((2, 2)))\n",
        "model_base.add(BatchNormalization())\n",
        "\n",
        "model_base.add(Dropout(0.50))\n",
        "model_base.add(layers.Flatten())\n",
        "\n",
        "model_base.add(layers.Dense(512, activation = 'relu'))\n",
        "model_base.add(BatchNormalization())\n",
        "model_base.add(Dropout(0.50))\n",
        "\n",
        "model_base.add(layers.Dense(10,activation = 'softmax'))\n",
        "\n",
        "#model1.summary()\n",
        "model_base.compile(loss='categorical_crossentropy',\n",
        "               optimizer= RMSprop(),\n",
        "               metrics=['accuracy'])\n",
        "history_base = model_base.fit(x_train, y_train,\n",
        "           epochs=17,\n",
        "           batch_size = 100,\n",
        "           validation_data = (x_validate, y_validate),\n",
        "           verbose = 1) "
      ],
      "execution_count": 18,
      "outputs": [
        {
          "output_type": "stream",
          "text": [
            "Train on 40000 samples, validate on 10000 samples\n",
            "Epoch 1/17\n",
            "40000/40000 [==============================] - 6s 147us/step - loss: 1.5493 - accuracy: 0.5087 - val_loss: 1.3217 - val_accuracy: 0.5339\n",
            "Epoch 2/17\n",
            "40000/40000 [==============================] - 5s 135us/step - loss: 1.0166 - accuracy: 0.6471 - val_loss: 0.8961 - val_accuracy: 0.6905\n",
            "Epoch 3/17\n",
            "40000/40000 [==============================] - 5s 134us/step - loss: 0.8726 - accuracy: 0.6934 - val_loss: 0.8467 - val_accuracy: 0.7145\n",
            "Epoch 4/17\n",
            "40000/40000 [==============================] - 5s 131us/step - loss: 0.7703 - accuracy: 0.7314 - val_loss: 0.8370 - val_accuracy: 0.7177\n",
            "Epoch 5/17\n",
            "40000/40000 [==============================] - 5s 134us/step - loss: 0.6954 - accuracy: 0.7577 - val_loss: 0.7798 - val_accuracy: 0.7399\n",
            "Epoch 6/17\n",
            "40000/40000 [==============================] - 5s 133us/step - loss: 0.6385 - accuracy: 0.7785 - val_loss: 0.7674 - val_accuracy: 0.7461\n",
            "Epoch 7/17\n",
            "40000/40000 [==============================] - 5s 131us/step - loss: 0.5830 - accuracy: 0.7979 - val_loss: 0.7407 - val_accuracy: 0.7551\n",
            "Epoch 8/17\n",
            "40000/40000 [==============================] - 5s 131us/step - loss: 0.5443 - accuracy: 0.8108 - val_loss: 0.7376 - val_accuracy: 0.7652\n",
            "Epoch 9/17\n",
            "40000/40000 [==============================] - 5s 131us/step - loss: 0.5035 - accuracy: 0.8262 - val_loss: 0.7485 - val_accuracy: 0.7650\n",
            "Epoch 10/17\n",
            "40000/40000 [==============================] - 5s 131us/step - loss: 0.4727 - accuracy: 0.8342 - val_loss: 0.7270 - val_accuracy: 0.7740\n",
            "Epoch 11/17\n",
            "40000/40000 [==============================] - 5s 131us/step - loss: 0.4443 - accuracy: 0.8480 - val_loss: 0.7664 - val_accuracy: 0.7740\n",
            "Epoch 12/17\n",
            "40000/40000 [==============================] - 5s 130us/step - loss: 0.4225 - accuracy: 0.8554 - val_loss: 0.7895 - val_accuracy: 0.7686\n",
            "Epoch 13/17\n",
            "40000/40000 [==============================] - 5s 131us/step - loss: 0.4066 - accuracy: 0.8612 - val_loss: 0.7457 - val_accuracy: 0.7713\n",
            "Epoch 14/17\n",
            "40000/40000 [==============================] - 5s 131us/step - loss: 0.3791 - accuracy: 0.8694 - val_loss: 0.7268 - val_accuracy: 0.7739\n",
            "Epoch 15/17\n",
            "40000/40000 [==============================] - 5s 130us/step - loss: 0.3577 - accuracy: 0.8775 - val_loss: 0.7662 - val_accuracy: 0.7729\n",
            "Epoch 16/17\n",
            "40000/40000 [==============================] - 5s 130us/step - loss: 0.3501 - accuracy: 0.8799 - val_loss: 0.8147 - val_accuracy: 0.7778\n",
            "Epoch 17/17\n",
            "40000/40000 [==============================] - 5s 130us/step - loss: 0.3341 - accuracy: 0.8860 - val_loss: 0.8443 - val_accuracy: 0.7669\n"
          ],
          "name": "stdout"
        }
      ]
    },
    {
      "cell_type": "code",
      "metadata": {
        "id": "U1h_YT5P9lm2",
        "colab_type": "code",
        "colab": {
          "base_uri": "https://localhost:8080/",
          "height": 54
        },
        "outputId": "b6507e34-7743-49a3-c44b-47723c342de6"
      },
      "source": [
        "loss, accuracy = model_base.evaluate(x_test, y_test, verbose=1)\n",
        "print(\"Test: accuracy = %f  ;  loss = %f\" % (accuracy, loss))\n"
      ],
      "execution_count": 19,
      "outputs": [
        {
          "output_type": "stream",
          "text": [
            "10000/10000 [==============================] - 1s 134us/step\n",
            "Test: accuracy = 0.765900  ;  loss = 0.843699\n"
          ],
          "name": "stdout"
        }
      ]
    },
    {
      "cell_type": "code",
      "metadata": {
        "id": "oLtti0hVSOns",
        "colab_type": "code",
        "colab": {}
      },
      "source": [
        "model_base.save('basic-cifar.h5')"
      ],
      "execution_count": 0,
      "outputs": []
    },
    {
      "cell_type": "code",
      "metadata": {
        "id": "sAl_McitSVmL",
        "colab_type": "code",
        "colab": {
          "base_uri": "https://localhost:8080/",
          "height": 54
        },
        "outputId": "cd0a13df-b0b3-4070-bf6d-e0e03ee32205"
      },
      "source": [
        "from keras.models import load_model\n",
        "base_model = load_model('basic-cifar.h5')\n",
        "loss, accuracy = base_model.evaluate(x_test, y_test, verbose=1)\n",
        "print(\"Test: accuracy = %f  ;  loss = %f\" % (accuracy, loss))"
      ],
      "execution_count": 23,
      "outputs": [
        {
          "output_type": "stream",
          "text": [
            "10000/10000 [==============================] - 1s 138us/step\n",
            "Test: accuracy = 0.765900  ;  loss = 0.843699\n"
          ],
          "name": "stdout"
        }
      ]
    }
  ]
}