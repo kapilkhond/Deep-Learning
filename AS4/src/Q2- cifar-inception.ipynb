{
  "nbformat": 4,
  "nbformat_minor": 0,
  "metadata": {
    "colab": {
      "name": "Untitled0.ipynb",
      "provenance": [],
      "toc_visible": true
    },
    "kernelspec": {
      "name": "python3",
      "display_name": "Python 3"
    },
    "accelerator": "GPU"
  },
  "cells": [
    {
      "cell_type": "code",
      "metadata": {
        "id": "kIy_aOaK_YGH",
        "colab_type": "code",
        "colab": {}
      },
      "source": [
        "import time\n",
        "import matplotlib.pyplot as plt\n",
        "import matplotlib.image as mpimg\n",
        "import numpy as np\n",
        "import itertools\n",
        "\n",
        "import keras\n",
        "from keras.utils.np_utils import to_categorical\n",
        "from keras.callbacks import ModelCheckpoint\n",
        "from keras.optimizers import Adam\n",
        "from keras.optimizers import RMSprop\n",
        "from keras.models import Sequential\n",
        "import itertools\n",
        "from keras.layers.normalization import BatchNormalization\n",
        "from keras.utils.np_utils import to_categorical\n",
        "from sklearn.model_selection import train_test_split\n",
        "from keras.utils import plot_model\n",
        "from keras.models import Model\n",
        "from keras.layers import Input\n",
        "from keras.layers import Dense\n",
        "from keras.layers import Flatten\n",
        "from keras.layers.convolutional import Conv2D\n",
        "from keras.layers.pooling import MaxPooling2D\n",
        "from keras.layers import BatchNormalization\n",
        "from keras.layers import Dropout\n",
        "from keras.models import load_model\n",
        "from keras import layers\n",
        "from keras import Input\n",
        "from keras.models import Model\n",
        "\n",
        "from keras.datasets import cifar10\n",
        "(x_train, y_train), (x_test, y_test) = cifar10.load_data()\n",
        "\n",
        "class_names = ['airplane','automobile','bird','cat','deer',\n",
        "               'dog','frog','horse','ship','truck']"
      ],
      "execution_count": 0,
      "outputs": []
    },
    {
      "cell_type": "code",
      "metadata": {
        "id": "beunfUsf_egV",
        "colab_type": "code",
        "colab": {
          "base_uri": "https://localhost:8080/",
          "height": 34
        },
        "outputId": "1618357d-f258-4e73-e822-36157138a99d"
      },
      "source": [
        "x_train_mean = np.mean(x_train)\n",
        "x_train_std  = np.std(x_train)\n",
        "\n",
        "x_test_mean = np.mean(x_test)\n",
        "x_test_std = np.std(x_test)\n",
        "\n",
        "x_train = (x_train - x_train_mean) / x_train_std\n",
        "\n",
        "\n",
        "print(np.unique(y_train))\n",
        "y_train = to_categorical(y_train)\n",
        "\n",
        "\n",
        "x_train, x_validate, y_train, y_validate = train_test_split(x_train, y_train, test_size = 0.2, random_state = 1201)"
      ],
      "execution_count": 41,
      "outputs": [
        {
          "output_type": "stream",
          "text": [
            "[0 1 2 3 4 5 6 7 8 9]\n"
          ],
          "name": "stdout"
        }
      ]
    },
    {
      "cell_type": "code",
      "metadata": {
        "id": "YyLULnx9BPL7",
        "colab_type": "code",
        "colab": {
          "base_uri": "https://localhost:8080/",
          "height": 34
        },
        "outputId": "10da8747-a3f2-4691-f692-77ea9ce6dfdf"
      },
      "source": [
        "x_test  = (x_test - x_train_mean) / x_train_std \n",
        "y_test = to_categorical(y_test)\n",
        "y_test.shape"
      ],
      "execution_count": 43,
      "outputs": [
        {
          "output_type": "execute_result",
          "data": {
            "text/plain": [
              "(10000, 10)"
            ]
          },
          "metadata": {
            "tags": []
          },
          "execution_count": 43
        }
      ]
    },
    {
      "cell_type": "code",
      "metadata": {
        "id": "Lro10FsyLX9X",
        "colab_type": "code",
        "colab": {}
      },
      "source": [
        "y_validate = to_categorical(y_validate)"
      ],
      "execution_count": 0,
      "outputs": []
    },
    {
      "cell_type": "code",
      "metadata": {
        "id": "0QV-wbM9Lgkc",
        "colab_type": "code",
        "colab": {
          "base_uri": "https://localhost:8080/",
          "height": 34
        },
        "outputId": "c5aced9b-3224-4e7a-b736-1f91891f18a3"
      },
      "source": [
        "y_validate.shape"
      ],
      "execution_count": 42,
      "outputs": [
        {
          "output_type": "execute_result",
          "data": {
            "text/plain": [
              "(10000, 10)"
            ]
          },
          "metadata": {
            "tags": []
          },
          "execution_count": 42
        }
      ]
    },
    {
      "cell_type": "code",
      "metadata": {
        "id": "sbespZtq_s_J",
        "colab_type": "code",
        "colab": {
          "base_uri": "https://localhost:8080/",
          "height": 867
        },
        "outputId": "1287fb3c-1a7a-488f-e79d-7d26302158db"
      },
      "source": [
        "input_layer = Input(shape = (32, 32, 3))\n",
        "\n",
        "#model1: block1\n",
        "block1_Conv1 =  layers.Conv2D(32, 3, activation = 'relu', padding = 'same')(input_layer)\n",
        "block1_MPool1 = layers.MaxPooling2D(2)(block1_Conv1)\n",
        "block1_Bn1 =    BatchNormalization()(block1_MPool1)\n",
        "\n",
        "block1_Conv2 =  layers.Conv2D(128, 3, activation = 'relu', padding = 'same')(block1_Bn1)\n",
        "block1_MPool2 = layers.MaxPooling2D(2)(block1_Conv2)\n",
        "block1_Bn2 =    BatchNormalization()(block1_MPool2)\n",
        "\n",
        "#inception block\n",
        "tower_1 = Conv2D(64, (1,1), padding='same', activation='relu')(block1_Bn2)\n",
        "tower_1 = Conv2D(64, (3,3), padding='same', activation='relu')(tower_1)\n",
        "tower_2 = Conv2D(64, (1,1), padding='same', activation='relu')(block1_Bn2)\n",
        "tower_2 = Conv2D(64, (5,5), padding='same', activation='relu')(tower_2)\n",
        "tower_3 = MaxPooling2D((3,3), strides=(1,1), padding='same')(block1_Bn2)\n",
        "tower_3 = Conv2D(64, (1,1), padding='same', activation='relu')(tower_3)\n",
        "    \n",
        "output_inception = keras.layers.concatenate([tower_1, tower_2, tower_3], axis = 3)\n",
        "\n",
        "#dense block\n",
        "dense1_dp1 =    Dropout(0.50)(output_inception)\n",
        "dense1_flt =    layers.Flatten()(dense1_dp1)\n",
        "\n",
        "dense1_dense1 = layers.Dense(512, activation = 'relu')(dense1_flt)\n",
        "dense1_Bn1 =    BatchNormalization()(dense1_dense1)\n",
        "dense1_dp2 =    Dropout(0.50)(dense1_Bn1)\n",
        "\n",
        "output_layer = layers.Dense(10,activation = 'softmax')(dense1_dp2)\n",
        "\n",
        "model2 = Model(inputs = input_layer, outputs = output_layer)\n",
        "model2.summary()"
      ],
      "execution_count": 44,
      "outputs": [
        {
          "output_type": "stream",
          "text": [
            "Model: \"model_4\"\n",
            "__________________________________________________________________________________________________\n",
            "Layer (type)                    Output Shape         Param #     Connected to                     \n",
            "==================================================================================================\n",
            "input_4 (InputLayer)            (None, 32, 32, 3)    0                                            \n",
            "__________________________________________________________________________________________________\n",
            "conv2d_22 (Conv2D)              (None, 32, 32, 32)   896         input_4[0][0]                    \n",
            "__________________________________________________________________________________________________\n",
            "max_pooling2d_10 (MaxPooling2D) (None, 16, 16, 32)   0           conv2d_22[0][0]                  \n",
            "__________________________________________________________________________________________________\n",
            "batch_normalization_10 (BatchNo (None, 16, 16, 32)   128         max_pooling2d_10[0][0]           \n",
            "__________________________________________________________________________________________________\n",
            "conv2d_23 (Conv2D)              (None, 16, 16, 128)  36992       batch_normalization_10[0][0]     \n",
            "__________________________________________________________________________________________________\n",
            "max_pooling2d_11 (MaxPooling2D) (None, 8, 8, 128)    0           conv2d_23[0][0]                  \n",
            "__________________________________________________________________________________________________\n",
            "batch_normalization_11 (BatchNo (None, 8, 8, 128)    512         max_pooling2d_11[0][0]           \n",
            "__________________________________________________________________________________________________\n",
            "conv2d_24 (Conv2D)              (None, 8, 8, 64)     8256        batch_normalization_11[0][0]     \n",
            "__________________________________________________________________________________________________\n",
            "conv2d_26 (Conv2D)              (None, 8, 8, 64)     8256        batch_normalization_11[0][0]     \n",
            "__________________________________________________________________________________________________\n",
            "max_pooling2d_12 (MaxPooling2D) (None, 8, 8, 128)    0           batch_normalization_11[0][0]     \n",
            "__________________________________________________________________________________________________\n",
            "conv2d_25 (Conv2D)              (None, 8, 8, 64)     36928       conv2d_24[0][0]                  \n",
            "__________________________________________________________________________________________________\n",
            "conv2d_27 (Conv2D)              (None, 8, 8, 64)     102464      conv2d_26[0][0]                  \n",
            "__________________________________________________________________________________________________\n",
            "conv2d_28 (Conv2D)              (None, 8, 8, 64)     8256        max_pooling2d_12[0][0]           \n",
            "__________________________________________________________________________________________________\n",
            "concatenate_4 (Concatenate)     (None, 8, 8, 192)    0           conv2d_25[0][0]                  \n",
            "                                                                 conv2d_27[0][0]                  \n",
            "                                                                 conv2d_28[0][0]                  \n",
            "__________________________________________________________________________________________________\n",
            "dropout_7 (Dropout)             (None, 8, 8, 192)    0           concatenate_4[0][0]              \n",
            "__________________________________________________________________________________________________\n",
            "flatten_4 (Flatten)             (None, 12288)        0           dropout_7[0][0]                  \n",
            "__________________________________________________________________________________________________\n",
            "dense_7 (Dense)                 (None, 512)          6291968     flatten_4[0][0]                  \n",
            "__________________________________________________________________________________________________\n",
            "batch_normalization_12 (BatchNo (None, 512)          2048        dense_7[0][0]                    \n",
            "__________________________________________________________________________________________________\n",
            "dropout_8 (Dropout)             (None, 512)          0           batch_normalization_12[0][0]     \n",
            "__________________________________________________________________________________________________\n",
            "dense_8 (Dense)                 (None, 10)           5130        dropout_8[0][0]                  \n",
            "==================================================================================================\n",
            "Total params: 6,501,834\n",
            "Trainable params: 6,500,490\n",
            "Non-trainable params: 1,344\n",
            "__________________________________________________________________________________________________\n"
          ],
          "name": "stdout"
        }
      ]
    },
    {
      "cell_type": "code",
      "metadata": {
        "id": "0c-gV-Xn_8lW",
        "colab_type": "code",
        "colab": {}
      },
      "source": [
        "model2.compile(loss='categorical_crossentropy',\n",
        "               optimizer= RMSprop(),\n",
        "               metrics=['accuracy'])"
      ],
      "execution_count": 0,
      "outputs": []
    },
    {
      "cell_type": "code",
      "metadata": {
        "id": "Ps_ty8o0Bh_h",
        "colab_type": "code",
        "colab": {
          "base_uri": "https://localhost:8080/",
          "height": 34
        },
        "outputId": "4d3cb6a6-6f45-4a23-ad67-14aefbac3ec4"
      },
      "source": [
        "y_train.shape"
      ],
      "execution_count": 7,
      "outputs": [
        {
          "output_type": "execute_result",
          "data": {
            "text/plain": [
              "(40000, 10)"
            ]
          },
          "metadata": {
            "tags": []
          },
          "execution_count": 7
        }
      ]
    },
    {
      "cell_type": "code",
      "metadata": {
        "id": "RyquxGSYAArd",
        "colab_type": "code",
        "colab": {
          "base_uri": "https://localhost:8080/",
          "height": 1000
        },
        "outputId": "3be88a97-d6f2-48cc-b1fa-a8652d08cca7"
      },
      "source": [
        "history2 = model2.fit(x_train, y_train,\n",
        "           epochs=35,\n",
        "           batch_size = 100,\n",
        "           validation_data = (x_validate, y_validate),\n",
        "           verbose = 1)"
      ],
      "execution_count": 46,
      "outputs": [
        {
          "output_type": "stream",
          "text": [
            "Train on 40000 samples, validate on 10000 samples\n",
            "Epoch 1/35\n",
            "40000/40000 [==============================] - 11s 281us/step - loss: 1.4242 - accuracy: 0.5213 - val_loss: 1.2439 - val_accuracy: 0.5531\n",
            "Epoch 2/35\n",
            "40000/40000 [==============================] - 11s 265us/step - loss: 0.9380 - accuracy: 0.6740 - val_loss: 0.7873 - val_accuracy: 0.7271\n",
            "Epoch 3/35\n",
            "40000/40000 [==============================] - 11s 263us/step - loss: 0.7862 - accuracy: 0.7263 - val_loss: 0.7833 - val_accuracy: 0.7316\n",
            "Epoch 4/35\n",
            "40000/40000 [==============================] - 11s 264us/step - loss: 0.6921 - accuracy: 0.7574 - val_loss: 0.7313 - val_accuracy: 0.7534\n",
            "Epoch 5/35\n",
            "40000/40000 [==============================] - 10s 262us/step - loss: 0.6094 - accuracy: 0.7877 - val_loss: 0.7132 - val_accuracy: 0.7573\n",
            "Epoch 6/35\n",
            "40000/40000 [==============================] - 11s 264us/step - loss: 0.5529 - accuracy: 0.8062 - val_loss: 0.6643 - val_accuracy: 0.7772\n",
            "Epoch 7/35\n",
            "40000/40000 [==============================] - 11s 263us/step - loss: 0.5035 - accuracy: 0.8228 - val_loss: 0.6369 - val_accuracy: 0.7892\n",
            "Epoch 8/35\n",
            "40000/40000 [==============================] - 11s 263us/step - loss: 0.4576 - accuracy: 0.8402 - val_loss: 0.6786 - val_accuracy: 0.7756\n",
            "Epoch 9/35\n",
            "40000/40000 [==============================] - 10s 262us/step - loss: 0.4139 - accuracy: 0.8547 - val_loss: 0.6538 - val_accuracy: 0.7858\n",
            "Epoch 10/35\n",
            "40000/40000 [==============================] - 10s 262us/step - loss: 0.3824 - accuracy: 0.8679 - val_loss: 0.6908 - val_accuracy: 0.7912\n",
            "Epoch 11/35\n",
            "40000/40000 [==============================] - 11s 263us/step - loss: 0.3533 - accuracy: 0.8769 - val_loss: 0.6873 - val_accuracy: 0.7826\n",
            "Epoch 12/35\n",
            "40000/40000 [==============================] - 10s 261us/step - loss: 0.3283 - accuracy: 0.8853 - val_loss: 0.6830 - val_accuracy: 0.7918\n",
            "Epoch 13/35\n",
            "40000/40000 [==============================] - 11s 263us/step - loss: 0.3098 - accuracy: 0.8910 - val_loss: 0.6667 - val_accuracy: 0.7932\n",
            "Epoch 14/35\n",
            "40000/40000 [==============================] - 11s 270us/step - loss: 0.2913 - accuracy: 0.8979 - val_loss: 0.7286 - val_accuracy: 0.7951\n",
            "Epoch 15/35\n",
            "40000/40000 [==============================] - 11s 264us/step - loss: 0.2674 - accuracy: 0.9056 - val_loss: 0.7019 - val_accuracy: 0.7972\n",
            "Epoch 16/35\n",
            "40000/40000 [==============================] - 11s 264us/step - loss: 0.2490 - accuracy: 0.9126 - val_loss: 0.7485 - val_accuracy: 0.7904\n",
            "Epoch 17/35\n",
            "40000/40000 [==============================] - 11s 264us/step - loss: 0.2388 - accuracy: 0.9169 - val_loss: 0.6555 - val_accuracy: 0.8029\n",
            "Epoch 18/35\n",
            "40000/40000 [==============================] - 10s 261us/step - loss: 0.2258 - accuracy: 0.9191 - val_loss: 0.6785 - val_accuracy: 0.8030\n",
            "Epoch 19/35\n",
            "40000/40000 [==============================] - 10s 262us/step - loss: 0.2148 - accuracy: 0.9245 - val_loss: 0.7250 - val_accuracy: 0.7951\n",
            "Epoch 20/35\n",
            "40000/40000 [==============================] - 10s 262us/step - loss: 0.2017 - accuracy: 0.9279 - val_loss: 0.7853 - val_accuracy: 0.7940\n",
            "Epoch 21/35\n",
            "40000/40000 [==============================] - 10s 262us/step - loss: 0.1958 - accuracy: 0.9310 - val_loss: 0.7460 - val_accuracy: 0.8060\n",
            "Epoch 22/35\n",
            "40000/40000 [==============================] - 10s 261us/step - loss: 0.1870 - accuracy: 0.9342 - val_loss: 0.7807 - val_accuracy: 0.8095\n",
            "Epoch 23/35\n",
            "40000/40000 [==============================] - 11s 264us/step - loss: 0.1795 - accuracy: 0.9377 - val_loss: 0.8368 - val_accuracy: 0.7891\n",
            "Epoch 24/35\n",
            "40000/40000 [==============================] - 11s 267us/step - loss: 0.1732 - accuracy: 0.9395 - val_loss: 0.8410 - val_accuracy: 0.7945\n",
            "Epoch 25/35\n",
            "40000/40000 [==============================] - 11s 267us/step - loss: 0.1705 - accuracy: 0.9401 - val_loss: 0.7044 - val_accuracy: 0.8110\n",
            "Epoch 26/35\n",
            "40000/40000 [==============================] - 11s 264us/step - loss: 0.1615 - accuracy: 0.9424 - val_loss: 0.8115 - val_accuracy: 0.7950\n",
            "Epoch 27/35\n",
            "40000/40000 [==============================] - 11s 264us/step - loss: 0.1579 - accuracy: 0.9449 - val_loss: 0.7848 - val_accuracy: 0.8040\n",
            "Epoch 28/35\n",
            "40000/40000 [==============================] - 11s 263us/step - loss: 0.1528 - accuracy: 0.9464 - val_loss: 0.8113 - val_accuracy: 0.8023\n",
            "Epoch 29/35\n",
            "40000/40000 [==============================] - 11s 266us/step - loss: 0.1458 - accuracy: 0.9480 - val_loss: 0.7824 - val_accuracy: 0.8081\n",
            "Epoch 30/35\n",
            "40000/40000 [==============================] - 11s 265us/step - loss: 0.1390 - accuracy: 0.9514 - val_loss: 0.7772 - val_accuracy: 0.8084\n",
            "Epoch 31/35\n",
            "40000/40000 [==============================] - 11s 265us/step - loss: 0.1364 - accuracy: 0.9529 - val_loss: 0.8423 - val_accuracy: 0.8063\n",
            "Epoch 32/35\n",
            "40000/40000 [==============================] - 11s 269us/step - loss: 0.1364 - accuracy: 0.9518 - val_loss: 0.7453 - val_accuracy: 0.8039\n",
            "Epoch 33/35\n",
            "40000/40000 [==============================] - 11s 266us/step - loss: 0.1325 - accuracy: 0.9533 - val_loss: 0.8113 - val_accuracy: 0.8087\n",
            "Epoch 34/35\n",
            "40000/40000 [==============================] - 11s 265us/step - loss: 0.1291 - accuracy: 0.9543 - val_loss: 0.7561 - val_accuracy: 0.8139\n",
            "Epoch 35/35\n",
            "40000/40000 [==============================] - 11s 266us/step - loss: 0.1268 - accuracy: 0.9548 - val_loss: 0.8540 - val_accuracy: 0.8118\n"
          ],
          "name": "stdout"
        }
      ]
    },
    {
      "cell_type": "code",
      "metadata": {
        "id": "2VoXA09WEfUv",
        "colab_type": "code",
        "colab": {
          "base_uri": "https://localhost:8080/",
          "height": 265
        },
        "outputId": "d5cfd2f2-73aa-417b-a56b-a1a7a50c2c21"
      },
      "source": [
        "fig, axs = plt.subplots(2,1)\n",
        "axs[0].plot(history2.history['loss'], color = 'b', label = \"Training Loss\")\n",
        "axs[0].plot(history2.history['val_loss'], color = 'r', label = \"Validation Loss\", axes = axs[0])\n",
        "legend = axs[0].legend(loc='best', shadow = True)\n",
        "\n",
        "axs[1].plot(history2.history['accuracy'], color = 'b', label = \"Training Accuracy\")\n",
        "axs[1].plot(history2.history['val_accuracy'], color = 'r', label = \"Validation Accuracy\")\n",
        "legend = axs[1].legend(loc='best', shadow = True)"
      ],
      "execution_count": 47,
      "outputs": [
        {
          "output_type": "display_data",
          "data": {
            "image/png": "[encoded data removed]",
            "text/plain": [
              "<Figure size 432x288 with 2 Axes>"
            ]
          },
          "metadata": {
            "tags": [],
            "needs_background": "light"
          }
        }
      ]
    },
    {
      "cell_type": "code",
      "metadata": {
        "id": "Fgq2Da2bGE-I",
        "colab_type": "code",
        "colab": {
          "base_uri": "https://localhost:8080/",
          "height": 496
        },
        "outputId": "79d53676-19e0-4705-c511-4788f2b00154"
      },
      "source": [
        "# after hyperparameter tuning\n",
        "input_layer = Input(shape = (32, 32, 3))\n",
        "\n",
        "#model1: block1\n",
        "block1_Conv1 =  layers.Conv2D(32, 3, activation = 'relu', padding = 'same')(input_layer)\n",
        "block1_MPool1 = layers.MaxPooling2D(2)(block1_Conv1)\n",
        "block1_Bn1 =    BatchNormalization()(block1_MPool1)\n",
        "\n",
        "block1_Conv2 =  layers.Conv2D(128, 3, activation = 'relu', padding = 'same')(block1_Bn1)\n",
        "block1_MPool2 = layers.MaxPooling2D(2)(block1_Conv2)\n",
        "block1_Bn2 =    BatchNormalization()(block1_MPool2)\n",
        "\n",
        "#inception block\n",
        "tower_1 = Conv2D(64, (1,1), padding='same', activation='relu')(block1_Bn2)\n",
        "tower_1 = Conv2D(64, (3,3), padding='same', activation='relu')(tower_1)\n",
        "tower_2 = Conv2D(64, (1,1), padding='same', activation='relu')(block1_Bn2)\n",
        "tower_2 = Conv2D(64, (5,5), padding='same', activation='relu')(tower_2)\n",
        "tower_3 = MaxPooling2D((3,3), strides=(1,1), padding='same')(block1_Bn2)\n",
        "tower_3 = Conv2D(64, (1,1), padding='same', activation='relu')(tower_3)\n",
        "    \n",
        "output_inception = keras.layers.concatenate([tower_1, tower_2, tower_3], axis = 3)\n",
        "\n",
        "#dense block\n",
        "dense1_dp1 =    Dropout(0.50)(output_inception)\n",
        "dense1_flt =    layers.Flatten()(dense1_dp1)\n",
        "\n",
        "dense1_dense1 = layers.Dense(512, activation = 'relu')(dense1_flt)\n",
        "dense1_Bn1 =    BatchNormalization()(dense1_dense1)\n",
        "dense1_dp2 =    Dropout(0.50)(dense1_Bn1)\n",
        "\n",
        "output_layer = layers.Dense(10,activation = 'softmax')(dense1_dp2)\n",
        "\n",
        "model_inception= Model(inputs = input_layer, outputs = output_layer)\n",
        "#model2.summary()\n",
        "model_inception.compile(loss='categorical_crossentropy',\n",
        "               optimizer= RMSprop(),\n",
        "               metrics=['accuracy'])\n",
        "\n",
        "history_inception= model_inception.fit(x_train, y_train,\n",
        "           epochs=13,\n",
        "           batch_size = 100,\n",
        "           validation_data = (x_validate, y_validate),\n",
        "           verbose = 1)"
      ],
      "execution_count": 49,
      "outputs": [
        {
          "output_type": "stream",
          "text": [
            "Train on 40000 samples, validate on 10000 samples\n",
            "Epoch 1/13\n",
            "40000/40000 [==============================] - 11s 277us/step - loss: 1.4196 - accuracy: 0.5232 - val_loss: 1.0543 - val_accuracy: 0.6270\n",
            "Epoch 2/13\n",
            "40000/40000 [==============================] - 10s 262us/step - loss: 0.9411 - accuracy: 0.6678 - val_loss: 0.8111 - val_accuracy: 0.7198\n",
            "Epoch 3/13\n",
            "40000/40000 [==============================] - 11s 266us/step - loss: 0.7893 - accuracy: 0.7240 - val_loss: 0.7273 - val_accuracy: 0.7488\n",
            "Epoch 4/13\n",
            "40000/40000 [==============================] - 11s 264us/step - loss: 0.6880 - accuracy: 0.7586 - val_loss: 0.7412 - val_accuracy: 0.7460\n",
            "Epoch 5/13\n",
            "40000/40000 [==============================] - 11s 268us/step - loss: 0.6101 - accuracy: 0.7879 - val_loss: 0.7172 - val_accuracy: 0.7529\n",
            "Epoch 6/13\n",
            "40000/40000 [==============================] - 11s 266us/step - loss: 0.5529 - accuracy: 0.8061 - val_loss: 0.6878 - val_accuracy: 0.7693\n",
            "Epoch 7/13\n",
            "40000/40000 [==============================] - 11s 267us/step - loss: 0.4973 - accuracy: 0.8250 - val_loss: 0.6911 - val_accuracy: 0.7739\n",
            "Epoch 8/13\n",
            "40000/40000 [==============================] - 11s 268us/step - loss: 0.4559 - accuracy: 0.8410 - val_loss: 0.6955 - val_accuracy: 0.7774\n",
            "Epoch 9/13\n",
            "40000/40000 [==============================] - 11s 268us/step - loss: 0.4176 - accuracy: 0.8538 - val_loss: 0.6708 - val_accuracy: 0.7850\n",
            "Epoch 10/13\n",
            "40000/40000 [==============================] - 11s 274us/step - loss: 0.3886 - accuracy: 0.8647 - val_loss: 0.6430 - val_accuracy: 0.7974\n",
            "Epoch 11/13\n",
            "40000/40000 [==============================] - 11s 275us/step - loss: 0.3539 - accuracy: 0.8765 - val_loss: 0.7042 - val_accuracy: 0.7741\n",
            "Epoch 12/13\n",
            "40000/40000 [==============================] - 11s 271us/step - loss: 0.3230 - accuracy: 0.8866 - val_loss: 0.6737 - val_accuracy: 0.8004\n",
            "Epoch 13/13\n",
            "40000/40000 [==============================] - 11s 266us/step - loss: 0.3062 - accuracy: 0.8913 - val_loss: 0.6657 - val_accuracy: 0.7973\n"
          ],
          "name": "stdout"
        }
      ]
    },
    {
      "cell_type": "code",
      "metadata": {
        "id": "ZJzwMghfG7Fa",
        "colab_type": "code",
        "colab": {
          "base_uri": "https://localhost:8080/",
          "height": 85
        },
        "outputId": "17c06709-0e10-400b-ceb4-cec98f02a166"
      },
      "source": [
        "\n"
      ],
      "execution_count": 48,
      "outputs": [
        {
          "output_type": "stream",
          "text": [
            "10000/10000 [==============================] - 1s 149us/step\n",
            "0.8118000030517578 0.854012246465683\n",
            "10000/10000 [==============================] - 1s 145us/step\n",
            "0.8104000091552734 0.870421659898758\n"
          ],
          "name": "stdout"
        }
      ]
    },
    {
      "cell_type": "code",
      "metadata": {
        "id": "3SVQJlahNcOg",
        "colab_type": "code",
        "colab": {
          "base_uri": "https://localhost:8080/",
          "height": 51
        },
        "outputId": "51f59306-df3d-45d6-f2f2-74601f7a1f70"
      },
      "source": [
        "test_loss, test_accuracy = model_inception.evaluate(x_test, y_test)\n",
        "print (test_accuracy, test_loss)\n",
        "model_inception.save('inception.h5')\n",
        "model_loaded = load_model('inception.h5')"
      ],
      "execution_count": 51,
      "outputs": [
        {
          "output_type": "stream",
          "text": [
            "10000/10000 [==============================] - 1s 149us/step\n",
            "0.7936999797821045 0.6680989986181259\n"
          ],
          "name": "stdout"
        }
      ]
    },
    {
      "cell_type": "code",
      "metadata": {
        "id": "dSgPNH25H3eS",
        "colab_type": "code",
        "colab": {
          "base_uri": "https://localhost:8080/",
          "height": 34
        },
        "outputId": "b915593f-2d16-49ba-83e5-fc32f1f656a1"
      },
      "source": [
        ""
      ],
      "execution_count": 35,
      "outputs": [
        {
          "output_type": "execute_result",
          "data": {
            "text/plain": [
              "(8000, 10, 2)"
            ]
          },
          "metadata": {
            "tags": []
          },
          "execution_count": 35
        }
      ]
    }
  ]
}