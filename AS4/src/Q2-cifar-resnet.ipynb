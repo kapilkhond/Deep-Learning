{
  "nbformat": 4,
  "nbformat_minor": 0,
  "metadata": {
    "colab": {
      "name": "resnet.ipynb",
      "provenance": []
    },
    "kernelspec": {
      "name": "python3",
      "display_name": "Python 3"
    },
    "accelerator": "GPU"
  },
  "cells": [
    {
      "cell_type": "code",
      "metadata": {
        "id": "Om5h-AyXQqYH",
        "colab_type": "code",
        "colab": {
          "base_uri": "https://localhost:8080/",
          "height": 54
        },
        "outputId": "48e0b9f3-c8ec-4b87-c25f-093a02554e05"
      },
      "source": [
        "import time\n",
        "import matplotlib.pyplot as plt\n",
        "import matplotlib.image as mpimg\n",
        "import numpy as np\n",
        "import itertools\n",
        "\n",
        "import keras\n",
        "from keras.utils.np_utils import to_categorical\n",
        "from keras.callbacks import ModelCheckpoint\n",
        "from keras.optimizers import Adam\n",
        "from keras.optimizers import RMSprop\n",
        "from keras.models import Sequential\n",
        "import itertools\n",
        "from keras.layers.normalization import BatchNormalization\n",
        "from keras.utils.np_utils import to_categorical\n",
        "from sklearn.model_selection import train_test_split\n",
        "from keras.utils import plot_model\n",
        "from keras.models import Model\n",
        "from keras.layers import Input\n",
        "from keras.layers import Dense\n",
        "from keras.layers import Flatten\n",
        "from keras.layers.convolutional import Conv2D\n",
        "from keras.layers.pooling import MaxPooling2D\n",
        "from keras.layers import BatchNormalization\n",
        "from keras.layers import Dropout\n",
        "from keras.models import load_model\n",
        "from keras import layers\n",
        "from keras import Input\n",
        "from keras.models import Model\n",
        "\n",
        "from keras.datasets import cifar10\n",
        "(x_train, y_train), (x_test, y_test) = cifar10.load_data()\n",
        "\n",
        "class_names = ['airplane','automobile','bird','cat','deer',\n",
        "               'dog','frog','horse','ship','truck']"
      ],
      "execution_count": 3,
      "outputs": [
        {
          "output_type": "stream",
          "text": [
            "Downloading data from https://www.cs.toronto.edu/~kriz/cifar-10-python.tar.gz\n",
            "170500096/170498071 [==============================] - 4s 0us/step\n"
          ],
          "name": "stdout"
        }
      ]
    },
    {
      "cell_type": "code",
      "metadata": {
        "id": "cCQICNzRRFJB",
        "colab_type": "code",
        "colab": {
          "base_uri": "https://localhost:8080/",
          "height": 35
        },
        "outputId": "f9ee0256-eae5-4f60-ecf6-536c2d326e1b"
      },
      "source": [
        "x_train_mean = np.mean(x_train)\n",
        "x_train_std  = np.std(x_train)\n",
        "\n",
        "x_test_mean = np.mean(x_test)\n",
        "x_test_std = np.std(x_test)\n",
        "\n",
        "x_train = (x_train - x_train_mean) / x_train_std\n",
        "\n",
        "\n",
        "print(np.unique(y_train))\n",
        "\n",
        "x_test  = (x_test - x_train_mean) / x_train_std \n",
        "y_test = to_categorical(y_test)\n",
        "\n",
        "\n",
        "x_train, x_validate, y_train, y_validate = train_test_split(x_train, y_train, test_size = 0.2, random_state = 1201)\n",
        "y_validate = to_categorical(y_validate)\n",
        "y_train = to_categorical(y_train)"
      ],
      "execution_count": 4,
      "outputs": [
        {
          "output_type": "stream",
          "text": [
            "[0 1 2 3 4 5 6 7 8 9]\n"
          ],
          "name": "stdout"
        }
      ]
    },
    {
      "cell_type": "code",
      "metadata": {
        "id": "w-wT35P0R1Wb",
        "colab_type": "code",
        "colab": {
          "base_uri": "https://localhost:8080/",
          "height": 35
        },
        "outputId": "654d91db-dd86-42a0-f55c-a97bb36c6013"
      },
      "source": [
        "y_train.shape"
      ],
      "execution_count": 9,
      "outputs": [
        {
          "output_type": "execute_result",
          "data": {
            "text/plain": [
              "(40000, 10)"
            ]
          },
          "metadata": {
            "tags": []
          },
          "execution_count": 9
        }
      ]
    },
    {
      "cell_type": "code",
      "metadata": {
        "id": "WNNsN_JARisU",
        "colab_type": "code",
        "colab": {
          "base_uri": "https://localhost:8080/",
          "height": 1000
        },
        "outputId": "ad22f11e-717b-4083-eba6-c04d57c6a6ec"
      },
      "source": [
        "from keras.layers import ReLU\n",
        "from keras.layers import Add\n",
        "\n",
        "def relu_bn(inputs):\n",
        "    relu = ReLU()(inputs)\n",
        "    bn = BatchNormalization()(relu)\n",
        "    return bn\n",
        "\n",
        "def residual_block(x, downsample, filters, kernel_size: int = 3):\n",
        "    y = Conv2D(kernel_size=kernel_size, strides= (1 if not downsample else 2), filters=filters,padding=\"same\")(x)\n",
        "    y = relu_bn(y)\n",
        "    y = Conv2D(kernel_size=kernel_size, strides=1, filters=filters, padding=\"same\")(y)\n",
        "    y = relu_bn(y)\n",
        "    y = Conv2D(kernel_size=kernel_size, strides=1, filters=filters, padding=\"same\")(y)\n",
        "    y = relu_bn(y)\n",
        "\n",
        "    if downsample:\n",
        "        x = Conv2D(kernel_size=1, strides=2, filters=filters, padding=\"same\")(x)\n",
        "    out = Add()([x, y])\n",
        "    out = relu_bn(out)\n",
        "    return out\n",
        "\n",
        "def resnet_architecture():\n",
        "    \n",
        "    input_layer = Input(shape=(32, 32, 3))\n",
        "    \n",
        "    #model1: block2\n",
        "    block1_Conv1 =  layers.Conv2D(32, 3, activation = 'relu', padding = 'same')(input_layer)\n",
        "    block1_MPool1 = layers.MaxPooling2D(2)(block1_Conv1)\n",
        "    block1_Bn1 =    BatchNormalization()(block1_MPool1)\n",
        "\n",
        "    block1_Conv2 =  layers.Conv2D(128, 3, activation = 'relu', padding = 'same')(block1_Bn1)\n",
        "    block1_MPool2 = layers.MaxPooling2D(2)(block1_Conv2)\n",
        "    block1_Bn2 =    BatchNormalization()(block1_MPool2)\n",
        "    \n",
        "    #residual block\n",
        "    output_residual = residual_block(block1_Bn2, downsample=(True), filters=128)\n",
        "    \n",
        "    #dense block\n",
        "    dense1_dp1 =    Dropout(0.50)(output_residual)\n",
        "    dense1_flt =    layers.Flatten()(dense1_dp1)\n",
        "\n",
        "    dense1_dense1 = layers.Dense(512, activation = 'relu')(dense1_flt)\n",
        "    dense1_Bn1 =    BatchNormalization()(dense1_dense1)\n",
        "    dense1_dp2 =    Dropout(0.50)(dense1_Bn1)\n",
        "\n",
        "    output_layer = layers.Dense(10,activation = 'softmax')(dense1_dp2)\n",
        "\n",
        "    model = Model(inputs = input_layer, outputs = output_layer)\n",
        "    \n",
        "    return model\n",
        "\n",
        "model3 = resnet_architecture() # or create_plain_net()\n",
        "model3.summary()"
      ],
      "execution_count": 5,
      "outputs": [
        {
          "output_type": "stream",
          "text": [
            "Model: \"model_1\"\n",
            "__________________________________________________________________________________________________\n",
            "Layer (type)                    Output Shape         Param #     Connected to                     \n",
            "==================================================================================================\n",
            "input_1 (InputLayer)            (None, 32, 32, 3)    0                                            \n",
            "__________________________________________________________________________________________________\n",
            "conv2d_1 (Conv2D)               (None, 32, 32, 32)   896         input_1[0][0]                    \n",
            "__________________________________________________________________________________________________\n",
            "max_pooling2d_1 (MaxPooling2D)  (None, 16, 16, 32)   0           conv2d_1[0][0]                   \n",
            "__________________________________________________________________________________________________\n",
            "batch_normalization_1 (BatchNor (None, 16, 16, 32)   128         max_pooling2d_1[0][0]            \n",
            "__________________________________________________________________________________________________\n",
            "conv2d_2 (Conv2D)               (None, 16, 16, 128)  36992       batch_normalization_1[0][0]      \n",
            "__________________________________________________________________________________________________\n",
            "max_pooling2d_2 (MaxPooling2D)  (None, 8, 8, 128)    0           conv2d_2[0][0]                   \n",
            "__________________________________________________________________________________________________\n",
            "batch_normalization_2 (BatchNor (None, 8, 8, 128)    512         max_pooling2d_2[0][0]            \n",
            "__________________________________________________________________________________________________\n",
            "conv2d_3 (Conv2D)               (None, 4, 4, 128)    147584      batch_normalization_2[0][0]      \n",
            "__________________________________________________________________________________________________\n",
            "re_lu_1 (ReLU)                  (None, 4, 4, 128)    0           conv2d_3[0][0]                   \n",
            "__________________________________________________________________________________________________\n",
            "batch_normalization_3 (BatchNor (None, 4, 4, 128)    512         re_lu_1[0][0]                    \n",
            "__________________________________________________________________________________________________\n",
            "conv2d_4 (Conv2D)               (None, 4, 4, 128)    147584      batch_normalization_3[0][0]      \n",
            "__________________________________________________________________________________________________\n",
            "re_lu_2 (ReLU)                  (None, 4, 4, 128)    0           conv2d_4[0][0]                   \n",
            "__________________________________________________________________________________________________\n",
            "batch_normalization_4 (BatchNor (None, 4, 4, 128)    512         re_lu_2[0][0]                    \n",
            "__________________________________________________________________________________________________\n",
            "conv2d_5 (Conv2D)               (None, 4, 4, 128)    147584      batch_normalization_4[0][0]      \n",
            "__________________________________________________________________________________________________\n",
            "re_lu_3 (ReLU)                  (None, 4, 4, 128)    0           conv2d_5[0][0]                   \n",
            "__________________________________________________________________________________________________\n",
            "conv2d_6 (Conv2D)               (None, 4, 4, 128)    16512       batch_normalization_2[0][0]      \n",
            "__________________________________________________________________________________________________\n",
            "batch_normalization_5 (BatchNor (None, 4, 4, 128)    512         re_lu_3[0][0]                    \n",
            "__________________________________________________________________________________________________\n",
            "add_1 (Add)                     (None, 4, 4, 128)    0           conv2d_6[0][0]                   \n",
            "                                                                 batch_normalization_5[0][0]      \n",
            "__________________________________________________________________________________________________\n",
            "re_lu_4 (ReLU)                  (None, 4, 4, 128)    0           add_1[0][0]                      \n",
            "__________________________________________________________________________________________________\n",
            "batch_normalization_6 (BatchNor (None, 4, 4, 128)    512         re_lu_4[0][0]                    \n",
            "__________________________________________________________________________________________________\n",
            "dropout_1 (Dropout)             (None, 4, 4, 128)    0           batch_normalization_6[0][0]      \n",
            "__________________________________________________________________________________________________\n",
            "flatten_1 (Flatten)             (None, 2048)         0           dropout_1[0][0]                  \n",
            "__________________________________________________________________________________________________\n",
            "dense_1 (Dense)                 (None, 512)          1049088     flatten_1[0][0]                  \n",
            "__________________________________________________________________________________________________\n",
            "batch_normalization_7 (BatchNor (None, 512)          2048        dense_1[0][0]                    \n",
            "__________________________________________________________________________________________________\n",
            "dropout_2 (Dropout)             (None, 512)          0           batch_normalization_7[0][0]      \n",
            "__________________________________________________________________________________________________\n",
            "dense_2 (Dense)                 (None, 10)           5130        dropout_2[0][0]                  \n",
            "==================================================================================================\n",
            "Total params: 1,556,106\n",
            "Trainable params: 1,553,738\n",
            "Non-trainable params: 2,368\n",
            "__________________________________________________________________________________________________\n"
          ],
          "name": "stdout"
        }
      ]
    },
    {
      "cell_type": "code",
      "metadata": {
        "id": "dGPeZ3kYRnWy",
        "colab_type": "code",
        "colab": {
          "base_uri": "https://localhost:8080/",
          "height": 1000
        },
        "outputId": "b754571b-35da-4621-f76f-ecd1fbbbbd82"
      },
      "source": [
        "model3.compile(loss='categorical_crossentropy',\n",
        "               optimizer= RMSprop(),\n",
        "               metrics=['accuracy'])\n",
        "history3 = model3.fit(x_train, y_train,\n",
        "           epochs=35,\n",
        "           batch_size = 100,\n",
        "           validation_data = (x_validate, y_validate),\n",
        "           verbose = 1)     \n",
        "    \n",
        "\n",
        "          "
      ],
      "execution_count": 12,
      "outputs": [
        {
          "output_type": "stream",
          "text": [
            "Train on 40000 samples, validate on 10000 samples\n",
            "Epoch 1/35\n",
            "40000/40000 [==============================] - 186s 5ms/step - loss: 1.0954 - accuracy: 0.6212 - val_loss: 1.0408 - val_accuracy: 0.6455\n",
            "Epoch 2/35\n",
            "40000/40000 [==============================] - 187s 5ms/step - loss: 0.8590 - accuracy: 0.7003 - val_loss: 0.8036 - val_accuracy: 0.7240\n",
            "Epoch 3/35\n",
            "40000/40000 [==============================] - 186s 5ms/step - loss: 0.7223 - accuracy: 0.7462 - val_loss: 0.8023 - val_accuracy: 0.7280\n",
            "Epoch 4/35\n",
            "40000/40000 [==============================] - 185s 5ms/step - loss: 0.6224 - accuracy: 0.7846 - val_loss: 0.7360 - val_accuracy: 0.7513\n",
            "Epoch 5/35\n",
            "40000/40000 [==============================] - 184s 5ms/step - loss: 0.5334 - accuracy: 0.8127 - val_loss: 0.7286 - val_accuracy: 0.7655\n",
            "Epoch 6/35\n",
            "40000/40000 [==============================] - 186s 5ms/step - loss: 0.4529 - accuracy: 0.8417 - val_loss: 0.7442 - val_accuracy: 0.7677\n",
            "Epoch 7/35\n",
            "40000/40000 [==============================] - 185s 5ms/step - loss: 0.3869 - accuracy: 0.8651 - val_loss: 0.7379 - val_accuracy: 0.7755\n",
            "Epoch 8/35\n",
            "40000/40000 [==============================] - 184s 5ms/step - loss: 0.3308 - accuracy: 0.8840 - val_loss: 0.8231 - val_accuracy: 0.7648\n",
            "Epoch 9/35\n",
            "40000/40000 [==============================] - 186s 5ms/step - loss: 0.2905 - accuracy: 0.8993 - val_loss: 0.8345 - val_accuracy: 0.7746\n",
            "Epoch 10/35\n",
            "40000/40000 [==============================] - 184s 5ms/step - loss: 0.2531 - accuracy: 0.9121 - val_loss: 0.8823 - val_accuracy: 0.7705\n",
            "Epoch 11/35\n",
            "40000/40000 [==============================] - 185s 5ms/step - loss: 0.2257 - accuracy: 0.9219 - val_loss: 0.8719 - val_accuracy: 0.7728\n",
            "Epoch 12/35\n",
            "40000/40000 [==============================] - 188s 5ms/step - loss: 0.1988 - accuracy: 0.9304 - val_loss: 0.9649 - val_accuracy: 0.7759\n",
            "Epoch 13/35\n",
            "40000/40000 [==============================] - 185s 5ms/step - loss: 0.1768 - accuracy: 0.9395 - val_loss: 1.0278 - val_accuracy: 0.7609\n",
            "Epoch 14/35\n",
            "40000/40000 [==============================] - 185s 5ms/step - loss: 0.1624 - accuracy: 0.9449 - val_loss: 1.0957 - val_accuracy: 0.7678\n",
            "Epoch 15/35\n",
            "40000/40000 [==============================] - 187s 5ms/step - loss: 0.1471 - accuracy: 0.9506 - val_loss: 1.0516 - val_accuracy: 0.7756\n",
            "Epoch 16/35\n",
            "40000/40000 [==============================] - 184s 5ms/step - loss: 0.1424 - accuracy: 0.9524 - val_loss: 1.1254 - val_accuracy: 0.7631\n",
            "Epoch 17/35\n",
            "40000/40000 [==============================] - 184s 5ms/step - loss: 0.1287 - accuracy: 0.9561 - val_loss: 1.1680 - val_accuracy: 0.7733\n",
            "Epoch 18/35\n",
            "40000/40000 [==============================] - 185s 5ms/step - loss: 0.1216 - accuracy: 0.9590 - val_loss: 1.1231 - val_accuracy: 0.7727\n",
            "Epoch 19/35\n",
            "40000/40000 [==============================] - 187s 5ms/step - loss: 0.1138 - accuracy: 0.9623 - val_loss: 1.0947 - val_accuracy: 0.7717\n",
            "Epoch 20/35\n",
            "40000/40000 [==============================] - 186s 5ms/step - loss: 0.1085 - accuracy: 0.9632 - val_loss: 1.1551 - val_accuracy: 0.7741\n",
            "Epoch 21/35\n",
            "40000/40000 [==============================] - 184s 5ms/step - loss: 0.1014 - accuracy: 0.9658 - val_loss: 1.2291 - val_accuracy: 0.7715\n",
            "Epoch 22/35\n",
            "40000/40000 [==============================] - 187s 5ms/step - loss: 0.0944 - accuracy: 0.9672 - val_loss: 1.2673 - val_accuracy: 0.7669\n",
            "Epoch 23/35\n",
            "40000/40000 [==============================] - 186s 5ms/step - loss: 0.0913 - accuracy: 0.9695 - val_loss: 1.3226 - val_accuracy: 0.7733\n",
            "Epoch 24/35\n",
            "40000/40000 [==============================] - 185s 5ms/step - loss: 0.0843 - accuracy: 0.9709 - val_loss: 1.2748 - val_accuracy: 0.7722\n",
            "Epoch 25/35\n",
            "40000/40000 [==============================] - 188s 5ms/step - loss: 0.0852 - accuracy: 0.9718 - val_loss: 1.2227 - val_accuracy: 0.7680\n",
            "Epoch 26/35\n",
            "40000/40000 [==============================] - 185s 5ms/step - loss: 0.0785 - accuracy: 0.9741 - val_loss: 1.3196 - val_accuracy: 0.7691\n",
            "Epoch 27/35\n",
            "40000/40000 [==============================] - 184s 5ms/step - loss: 0.0750 - accuracy: 0.9747 - val_loss: 1.3396 - val_accuracy: 0.7666\n",
            "Epoch 28/35\n",
            "40000/40000 [==============================] - 184s 5ms/step - loss: 0.0735 - accuracy: 0.9754 - val_loss: 1.3534 - val_accuracy: 0.7685\n",
            "Epoch 29/35\n",
            "40000/40000 [==============================] - 186s 5ms/step - loss: 0.0675 - accuracy: 0.9770 - val_loss: 1.4434 - val_accuracy: 0.7680\n",
            "Epoch 30/35\n",
            "40000/40000 [==============================] - 185s 5ms/step - loss: 0.0694 - accuracy: 0.9770 - val_loss: 1.2648 - val_accuracy: 0.7740\n",
            "Epoch 31/35\n",
            "40000/40000 [==============================] - 185s 5ms/step - loss: 0.0578 - accuracy: 0.9801 - val_loss: 1.4799 - val_accuracy: 0.7655\n",
            "Epoch 32/35\n",
            "40000/40000 [==============================] - 188s 5ms/step - loss: 0.0659 - accuracy: 0.9780 - val_loss: 1.3083 - val_accuracy: 0.7754\n",
            "Epoch 33/35\n",
            "40000/40000 [==============================] - 185s 5ms/step - loss: 0.0599 - accuracy: 0.9806 - val_loss: 1.3967 - val_accuracy: 0.7749\n",
            "Epoch 34/35\n",
            "40000/40000 [==============================] - 184s 5ms/step - loss: 0.0600 - accuracy: 0.9805 - val_loss: 1.4135 - val_accuracy: 0.7741\n",
            "Epoch 35/35\n",
            "40000/40000 [==============================] - 186s 5ms/step - loss: 0.0546 - accuracy: 0.9820 - val_loss: 1.4973 - val_accuracy: 0.7614\n"
          ],
          "name": "stdout"
        }
      ]
    },
    {
      "cell_type": "code",
      "metadata": {
        "id": "IvVI2VqEsefG",
        "colab_type": "code",
        "colab": {
          "base_uri": "https://localhost:8080/",
          "height": 265
        },
        "outputId": "34c58131-372c-41e3-a0f9-dab2bdc83dc1"
      },
      "source": [
        "fig, axs = plt.subplots(2,1)\n",
        "axs[0].plot(history3.history['loss'], color = 'b', label = \"Training Loss\")\n",
        "axs[0].plot(history3.history['val_loss'], color = 'r', label = \"Validation Loss\", axes = axs[0])\n",
        "legend = axs[0].legend(loc='best', shadow = True)\n",
        "\n",
        "axs[1].plot(history3.history['accuracy'], color = 'b', label = \"Training Accuracy\")\n",
        "axs[1].plot(history3.history['val_accuracy'], color = 'r', label = \"Validation Accuracy\")\n",
        "legend = axs[1].legend(loc='best', shadow = True)"
      ],
      "execution_count": 13,
      "outputs": [
        {
          "output_type": "display_data",
          "data": {
            "image/png": "[encoded data removed]",
            "text/plain": [
              "<Figure size 432x288 with 2 Axes>"
            ]
          },
          "metadata": {
            "tags": [],
            "needs_background": "light"
          }
        }
      ]
    },
    {
      "cell_type": "code",
      "metadata": {
        "id": "1jG0SOQUst4t",
        "colab_type": "code",
        "colab": {
          "base_uri": "https://localhost:8080/",
          "height": 274
        },
        "outputId": "65a780f7-43e6-4f33-f265-a3e6a5eb452b"
      },
      "source": [
        "from keras.layers import ReLU\n",
        "from keras.layers import Add\n",
        "\n",
        "def relu_bn(inputs):\n",
        "    relu = ReLU()(inputs)\n",
        "    bn = BatchNormalization()(relu)\n",
        "    return bn\n",
        "\n",
        "def residual_block(x, downsample, filters, kernel_size: int = 3):\n",
        "    y = Conv2D(kernel_size=kernel_size, strides= (1 if not downsample else 2), filters=filters,padding=\"same\")(x)\n",
        "    y = relu_bn(y)\n",
        "    y = Conv2D(kernel_size=kernel_size, strides=1, filters=filters, padding=\"same\")(y)\n",
        "    y = relu_bn(y)\n",
        "    y = Conv2D(kernel_size=kernel_size, strides=1, filters=filters, padding=\"same\")(y)\n",
        "    y = relu_bn(y)\n",
        "\n",
        "    if downsample:\n",
        "        x = Conv2D(kernel_size=1, strides=2, filters=filters, padding=\"same\")(x)\n",
        "    out = Add()([x, y])\n",
        "    out = relu_bn(out)\n",
        "    return out\n",
        "\n",
        "def resnet_architecture():\n",
        "    \n",
        "    input_layer = Input(shape=(32, 32, 3))\n",
        "    \n",
        "    #model1: block2\n",
        "    block1_Conv1 =  layers.Conv2D(32, 3, activation = 'relu', padding = 'same')(input_layer)\n",
        "    block1_MPool1 = layers.MaxPooling2D(2)(block1_Conv1)\n",
        "    block1_Bn1 =    BatchNormalization()(block1_MPool1)\n",
        "\n",
        "    block1_Conv2 =  layers.Conv2D(128, 3, activation = 'relu', padding = 'same')(block1_Bn1)\n",
        "    block1_MPool2 = layers.MaxPooling2D(2)(block1_Conv2)\n",
        "    block1_Bn2 =    BatchNormalization()(block1_MPool2)\n",
        "    \n",
        "    #residual block\n",
        "    output_residual = residual_block(block1_Bn2, downsample=(True), filters=128)\n",
        "    \n",
        "    #dense block\n",
        "    dense1_dp1 =    Dropout(0.50)(output_residual)\n",
        "    dense1_flt =    layers.Flatten()(dense1_dp1)\n",
        "\n",
        "    dense1_dense1 = layers.Dense(512, activation = 'relu')(dense1_flt)\n",
        "    dense1_Bn1 =    BatchNormalization()(dense1_dense1)\n",
        "    dense1_dp2 =    Dropout(0.50)(dense1_Bn1)\n",
        "\n",
        "    output_layer = layers.Dense(10,activation = 'softmax')(dense1_dp2)\n",
        "\n",
        "    model = Model(inputs = input_layer, outputs = output_layer)\n",
        "    \n",
        "    return model\n",
        "\n",
        "model_res_net = resnet_architecture() # or create_plain_net()'\n",
        "model_res_net.compile(loss='categorical_crossentropy',\n",
        "               optimizer= RMSprop(),\n",
        "               metrics=['accuracy'])\n",
        "history_res_net = model_res_net.fit(x_train, y_train,\n",
        "           epochs=6,\n",
        "           batch_size = 100,\n",
        "           validation_data = (x_validate, y_validate),\n",
        "           verbose = 1)     \n",
        " "
      ],
      "execution_count": 6,
      "outputs": [
        {
          "output_type": "stream",
          "text": [
            "Train on 40000 samples, validate on 10000 samples\n",
            "Epoch 1/6\n",
            "40000/40000 [==============================] - 15s 376us/step - loss: 1.6934 - accuracy: 0.4554 - val_loss: 1.2484 - val_accuracy: 0.5598\n",
            "Epoch 2/6\n",
            "40000/40000 [==============================] - 8s 191us/step - loss: 1.1009 - accuracy: 0.6166 - val_loss: 1.0332 - val_accuracy: 0.6423\n",
            "Epoch 3/6\n",
            "40000/40000 [==============================] - 8s 190us/step - loss: 0.8711 - accuracy: 0.6936 - val_loss: 0.8173 - val_accuracy: 0.7229\n",
            "Epoch 4/6\n",
            "40000/40000 [==============================] - 8s 190us/step - loss: 0.7341 - accuracy: 0.7438 - val_loss: 0.7682 - val_accuracy: 0.7457\n",
            "Epoch 5/6\n",
            "40000/40000 [==============================] - 8s 188us/step - loss: 0.6233 - accuracy: 0.7781 - val_loss: 0.7105 - val_accuracy: 0.7619\n",
            "Epoch 6/6\n",
            "40000/40000 [==============================] - 8s 188us/step - loss: 0.5385 - accuracy: 0.8123 - val_loss: 0.8000 - val_accuracy: 0.7531\n"
          ],
          "name": "stdout"
        }
      ]
    },
    {
      "cell_type": "code",
      "metadata": {
        "id": "k5DALyKNy4gx",
        "colab_type": "code",
        "colab": {
          "base_uri": "https://localhost:8080/",
          "height": 35
        },
        "outputId": "890550c4-778a-42f7-e22a-709b6c7658ae"
      },
      "source": [
        "loss,accuracy  = model_res_net.evaluate(x_test,y_test)"
      ],
      "execution_count": 7,
      "outputs": [
        {
          "output_type": "stream",
          "text": [
            "10000/10000 [==============================] - 2s 159us/step\n"
          ],
          "name": "stdout"
        }
      ]
    },
    {
      "cell_type": "code",
      "metadata": {
        "id": "E811rQlF9yLD",
        "colab_type": "code",
        "colab": {
          "base_uri": "https://localhost:8080/",
          "height": 35
        },
        "outputId": "813c09fb-0836-4569-a3f8-6e0c36e5ceb3"
      },
      "source": [
        "accuracy,loss"
      ],
      "execution_count": 8,
      "outputs": [
        {
          "output_type": "execute_result",
          "data": {
            "text/plain": [
              "(0.7498000264167786, 0.7932173824071884)"
            ]
          },
          "metadata": {
            "tags": []
          },
          "execution_count": 8
        }
      ]
    },
    {
      "cell_type": "code",
      "metadata": {
        "id": "jVWtruvLzLUY",
        "colab_type": "code",
        "colab": {}
      },
      "source": [
        "model_res_net.save('cifar-resnet.h5')"
      ],
      "execution_count": 0,
      "outputs": []
    }
  ]
}